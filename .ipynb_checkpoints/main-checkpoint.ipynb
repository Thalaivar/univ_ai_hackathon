{
 "cells": [
  {
   "cell_type": "code",
   "execution_count": 1,
   "id": "everyday-indianapolis",
   "metadata": {},
   "outputs": [],
   "source": [
    "import pandas as pd\n",
    "import numpy as np\n",
    "import scipy.stats as ss\n",
    "\n",
    "import matplotlib.pyplot as plt\n",
    "import seaborn as sns\n",
    "sns.set(style=\"darkgrid\")\n",
    "\n",
    "from itertools import combinations\n",
    "from sklearn.preprocessing import StandardScaler\n",
    "from sklearn.model_selection import cross_val_score"
   ]
  },
  {
   "cell_type": "code",
   "execution_count": 43,
   "id": "christian-kelly",
   "metadata": {},
   "outputs": [],
   "source": [
    "TRAIN_FILE = \"./train.csv\"\n",
    "TEST_FILE = \"./test.csv\"\n",
    "\n",
    "CATVARS = [\"married\", \"house_ownership\", \"car_ownership\", \"profession\", \"state\"]\n",
    "DROPVARS = [\"Id\", \"city\"]\n",
    "N_FOLDS = 5"
   ]
  },
  {
   "cell_type": "code",
   "execution_count": 45,
   "id": "italic-america",
   "metadata": {},
   "outputs": [],
   "source": [
    "def eval_model(clf, X, y, scale_data):\n",
    "    if scale_data:\n",
    "        X = StandardScaler().fit_transform(X)\n",
    "    scores = cross_val_score(clf, X, y, cv=N_FOLDS, n_jobs=-1, scoring=\"roc_auc\")\n",
    "    print(\"%0.2f ROC AUC with a standard deviation of %0.2f\" % (scores.mean(), scores.std()))\n",
    "    \n",
    "def transform_feats(df):\n",
    "    df = df[df.columns[~df.columns.isin(CATVARS)]].copy()\n",
    "    df = df.drop(\"current_job_years\", axis=1)\n",
    "    X = df.values\n",
    "    return X\n",
    "\n",
    "def submission(clf, df):\n",
    "    X = df.drop([\"id\", \"city\"], axis=1)\n",
    "    X = transform_feats(X)\n",
    "    y = clf.predict(X)\n",
    "    res = {\"id\": list(df[\"id\"]), \"risk_flag\": list(y)}\n",
    "    return pd.DataFrame.from_dict(res)\n",
    "\n",
    "def train(clf, df):\n",
    "    X, y = transform_feats(df.drop(\"risk_flag\", axis=1)), df[\"risk_flag\"].values\n",
    "    clf.fit(X, y)\n",
    "    return clf"
   ]
  },
  {
   "cell_type": "code",
   "execution_count": 4,
   "id": "rural-wonder",
   "metadata": {},
   "outputs": [
    {
     "data": {
      "text/html": [
       "<div>\n",
       "<style scoped>\n",
       "    .dataframe tbody tr th:only-of-type {\n",
       "        vertical-align: middle;\n",
       "    }\n",
       "\n",
       "    .dataframe tbody tr th {\n",
       "        vertical-align: top;\n",
       "    }\n",
       "\n",
       "    .dataframe thead th {\n",
       "        text-align: right;\n",
       "    }\n",
       "</style>\n",
       "<table border=\"1\" class=\"dataframe\">\n",
       "  <thead>\n",
       "    <tr style=\"text-align: right;\">\n",
       "      <th></th>\n",
       "      <th>income</th>\n",
       "      <th>age</th>\n",
       "      <th>experience</th>\n",
       "      <th>married</th>\n",
       "      <th>house_ownership</th>\n",
       "      <th>car_ownership</th>\n",
       "      <th>profession</th>\n",
       "      <th>state</th>\n",
       "      <th>current_job_years</th>\n",
       "      <th>current_house_years</th>\n",
       "      <th>risk_flag</th>\n",
       "    </tr>\n",
       "  </thead>\n",
       "  <tbody>\n",
       "    <tr>\n",
       "      <th>0</th>\n",
       "      <td>1303835</td>\n",
       "      <td>23</td>\n",
       "      <td>3</td>\n",
       "      <td>single</td>\n",
       "      <td>rented</td>\n",
       "      <td>no</td>\n",
       "      <td>Mechanical_engineer</td>\n",
       "      <td>Madhya_Pradesh</td>\n",
       "      <td>3</td>\n",
       "      <td>13</td>\n",
       "      <td>0</td>\n",
       "    </tr>\n",
       "    <tr>\n",
       "      <th>1</th>\n",
       "      <td>7574516</td>\n",
       "      <td>40</td>\n",
       "      <td>10</td>\n",
       "      <td>single</td>\n",
       "      <td>rented</td>\n",
       "      <td>no</td>\n",
       "      <td>Software_Developer</td>\n",
       "      <td>Maharashtra</td>\n",
       "      <td>9</td>\n",
       "      <td>13</td>\n",
       "      <td>0</td>\n",
       "    </tr>\n",
       "    <tr>\n",
       "      <th>2</th>\n",
       "      <td>3991815</td>\n",
       "      <td>66</td>\n",
       "      <td>4</td>\n",
       "      <td>married</td>\n",
       "      <td>rented</td>\n",
       "      <td>no</td>\n",
       "      <td>Technical_writer</td>\n",
       "      <td>Kerala</td>\n",
       "      <td>4</td>\n",
       "      <td>10</td>\n",
       "      <td>0</td>\n",
       "    </tr>\n",
       "    <tr>\n",
       "      <th>3</th>\n",
       "      <td>6256451</td>\n",
       "      <td>41</td>\n",
       "      <td>2</td>\n",
       "      <td>single</td>\n",
       "      <td>rented</td>\n",
       "      <td>yes</td>\n",
       "      <td>Software_Developer</td>\n",
       "      <td>Odisha</td>\n",
       "      <td>2</td>\n",
       "      <td>12</td>\n",
       "      <td>1</td>\n",
       "    </tr>\n",
       "    <tr>\n",
       "      <th>4</th>\n",
       "      <td>5768871</td>\n",
       "      <td>47</td>\n",
       "      <td>11</td>\n",
       "      <td>single</td>\n",
       "      <td>rented</td>\n",
       "      <td>no</td>\n",
       "      <td>Civil_servant</td>\n",
       "      <td>Tamil_Nadu</td>\n",
       "      <td>3</td>\n",
       "      <td>14</td>\n",
       "      <td>1</td>\n",
       "    </tr>\n",
       "  </tbody>\n",
       "</table>\n",
       "</div>"
      ],
      "text/plain": [
       "    income  age  experience  married house_ownership car_ownership  \\\n",
       "0  1303835   23           3   single          rented            no   \n",
       "1  7574516   40          10   single          rented            no   \n",
       "2  3991815   66           4  married          rented            no   \n",
       "3  6256451   41           2   single          rented           yes   \n",
       "4  5768871   47          11   single          rented            no   \n",
       "\n",
       "            profession           state  current_job_years  \\\n",
       "0  Mechanical_engineer  Madhya_Pradesh                  3   \n",
       "1   Software_Developer     Maharashtra                  9   \n",
       "2     Technical_writer          Kerala                  4   \n",
       "3   Software_Developer          Odisha                  2   \n",
       "4        Civil_servant      Tamil_Nadu                  3   \n",
       "\n",
       "   current_house_years  risk_flag  \n",
       "0                   13          0  \n",
       "1                   13          0  \n",
       "2                   10          0  \n",
       "3                   12          1  \n",
       "4                   14          1  "
      ]
     },
     "execution_count": 4,
     "metadata": {},
     "output_type": "execute_result"
    }
   ],
   "source": [
    "df_train = pd.read_csv(TRAIN_FILE).drop(DROPVARS, axis=1)\n",
    "df_train.head()"
   ]
  },
  {
   "cell_type": "markdown",
   "id": "moved-nashville",
   "metadata": {},
   "source": [
    "# split data into continuous and categorical predictors"
   ]
  },
  {
   "cell_type": "code",
   "execution_count": 5,
   "id": "hindu-gross",
   "metadata": {},
   "outputs": [],
   "source": [
    "df_cont = df_train[df_train.columns[~df_train.columns.isin(CATVARS)]]\n",
    "df_catg = df_train[CATVARS + [\"risk_flag\"]]"
   ]
  },
  {
   "cell_type": "markdown",
   "id": "wanted-parent",
   "metadata": {},
   "source": [
    "# continuous"
   ]
  },
  {
   "cell_type": "code",
   "execution_count": 6,
   "id": "successful-conflict",
   "metadata": {},
   "outputs": [
    {
     "data": {
      "text/html": [
       "<div>\n",
       "<style scoped>\n",
       "    .dataframe tbody tr th:only-of-type {\n",
       "        vertical-align: middle;\n",
       "    }\n",
       "\n",
       "    .dataframe tbody tr th {\n",
       "        vertical-align: top;\n",
       "    }\n",
       "\n",
       "    .dataframe thead th {\n",
       "        text-align: right;\n",
       "    }\n",
       "</style>\n",
       "<table border=\"1\" class=\"dataframe\">\n",
       "  <thead>\n",
       "    <tr style=\"text-align: right;\">\n",
       "      <th></th>\n",
       "      <th>Feature</th>\n",
       "      <th>Correlation</th>\n",
       "    </tr>\n",
       "  </thead>\n",
       "  <tbody>\n",
       "    <tr>\n",
       "      <th>2</th>\n",
       "      <td>experience</td>\n",
       "      <td>-0.034523</td>\n",
       "    </tr>\n",
       "    <tr>\n",
       "      <th>1</th>\n",
       "      <td>age</td>\n",
       "      <td>-0.021809</td>\n",
       "    </tr>\n",
       "    <tr>\n",
       "      <th>3</th>\n",
       "      <td>current_job_years</td>\n",
       "      <td>-0.016942</td>\n",
       "    </tr>\n",
       "    <tr>\n",
       "      <th>4</th>\n",
       "      <td>current_house_years</td>\n",
       "      <td>-0.004375</td>\n",
       "    </tr>\n",
       "    <tr>\n",
       "      <th>0</th>\n",
       "      <td>income</td>\n",
       "      <td>-0.003091</td>\n",
       "    </tr>\n",
       "  </tbody>\n",
       "</table>\n",
       "</div>"
      ],
      "text/plain": [
       "               Feature  Correlation\n",
       "2           experience    -0.034523\n",
       "1                  age    -0.021809\n",
       "3    current_job_years    -0.016942\n",
       "4  current_house_years    -0.004375\n",
       "0               income    -0.003091"
      ]
     },
     "execution_count": 6,
     "metadata": {},
     "output_type": "execute_result"
    }
   ],
   "source": [
    "def feat_target_corr(df: pd.DataFrame, target_varname: str) -> pd.DataFrame:\n",
    "    corr_df = {\"Feature\": [], \"Correlation\": []}\n",
    "\n",
    "    varnames = list(df.columns)\n",
    "    varnames.remove(target_varname)\n",
    "    \n",
    "    for varname in varnames:\n",
    "        corr_df[\"Feature\"].append(varname)\n",
    "        corr_df[\"Correlation\"].append(ss.pointbiserialr(df[target_varname], df[varname])[0])\n",
    "    \n",
    "    corr_df = pd.DataFrame.from_dict(corr_df).sort_values(by=\"Correlation\", axis=0)\n",
    "    return corr_df\n",
    "\n",
    "feat_target_corr(df_cont, \"risk_flag\")"
   ]
  },
  {
   "cell_type": "code",
   "execution_count": 7,
   "id": "unexpected-enough",
   "metadata": {},
   "outputs": [
    {
     "data": {
      "text/html": [
       "<div>\n",
       "<style scoped>\n",
       "    .dataframe tbody tr th:only-of-type {\n",
       "        vertical-align: middle;\n",
       "    }\n",
       "\n",
       "    .dataframe tbody tr th {\n",
       "        vertical-align: top;\n",
       "    }\n",
       "\n",
       "    .dataframe thead th {\n",
       "        text-align: right;\n",
       "    }\n",
       "</style>\n",
       "<table border=\"1\" class=\"dataframe\">\n",
       "  <thead>\n",
       "    <tr style=\"text-align: right;\">\n",
       "      <th></th>\n",
       "      <th>Feature 1</th>\n",
       "      <th>Feature 2</th>\n",
       "      <th>Correlation</th>\n",
       "    </tr>\n",
       "  </thead>\n",
       "  <tbody>\n",
       "    <tr>\n",
       "      <th>0</th>\n",
       "      <td>income</td>\n",
       "      <td>age</td>\n",
       "      <td>0.000652</td>\n",
       "    </tr>\n",
       "    <tr>\n",
       "      <th>4</th>\n",
       "      <td>age</td>\n",
       "      <td>experience</td>\n",
       "      <td>0.001118</td>\n",
       "    </tr>\n",
       "    <tr>\n",
       "      <th>5</th>\n",
       "      <td>age</td>\n",
       "      <td>current_job_years</td>\n",
       "      <td>0.002154</td>\n",
       "    </tr>\n",
       "    <tr>\n",
       "      <th>3</th>\n",
       "      <td>income</td>\n",
       "      <td>current_house_years</td>\n",
       "      <td>0.002397</td>\n",
       "    </tr>\n",
       "    <tr>\n",
       "      <th>9</th>\n",
       "      <td>current_job_years</td>\n",
       "      <td>current_house_years</td>\n",
       "      <td>0.005372</td>\n",
       "    </tr>\n",
       "    <tr>\n",
       "      <th>1</th>\n",
       "      <td>income</td>\n",
       "      <td>experience</td>\n",
       "      <td>0.006422</td>\n",
       "    </tr>\n",
       "    <tr>\n",
       "      <th>2</th>\n",
       "      <td>income</td>\n",
       "      <td>current_job_years</td>\n",
       "      <td>0.007045</td>\n",
       "    </tr>\n",
       "    <tr>\n",
       "      <th>8</th>\n",
       "      <td>experience</td>\n",
       "      <td>current_house_years</td>\n",
       "      <td>0.019309</td>\n",
       "    </tr>\n",
       "    <tr>\n",
       "      <th>6</th>\n",
       "      <td>age</td>\n",
       "      <td>current_house_years</td>\n",
       "      <td>0.020134</td>\n",
       "    </tr>\n",
       "    <tr>\n",
       "      <th>7</th>\n",
       "      <td>experience</td>\n",
       "      <td>current_job_years</td>\n",
       "      <td>0.646098</td>\n",
       "    </tr>\n",
       "  </tbody>\n",
       "</table>\n",
       "</div>"
      ],
      "text/plain": [
       "           Feature 1            Feature 2  Correlation\n",
       "0             income                  age     0.000652\n",
       "4                age           experience     0.001118\n",
       "5                age    current_job_years     0.002154\n",
       "3             income  current_house_years     0.002397\n",
       "9  current_job_years  current_house_years     0.005372\n",
       "1             income           experience     0.006422\n",
       "2             income    current_job_years     0.007045\n",
       "8         experience  current_house_years     0.019309\n",
       "6                age  current_house_years     0.020134\n",
       "7         experience    current_job_years     0.646098"
      ]
     },
     "execution_count": 7,
     "metadata": {},
     "output_type": "execute_result"
    }
   ],
   "source": [
    "def feat_corr(df: pd.DataFrame, target_varname: str) -> pd.DataFrame:\n",
    "    df = df.drop(\"risk_flag\", axis=1).corr().abs()\n",
    "    \n",
    "    corr_df = {\"Feature 1\": [], \"Feature 2\": [], \"Correlation\": []}\n",
    "    for var1, var2 in combinations(df.columns, 2):\n",
    "                corr_df[\"Feature 1\"].append(var1)\n",
    "                corr_df[\"Feature 2\"].append(var2)\n",
    "                corr_df[\"Correlation\"].append(df[var1][var2])\n",
    "    return pd.DataFrame.from_dict(corr_df).sort_values(by=\"Correlation\", axis=0)\n",
    "\n",
    "feat_corr(df_cont, \"risk_flag\")"
   ]
  },
  {
   "cell_type": "code",
   "execution_count": 8,
   "id": "patient-hanging",
   "metadata": {},
   "outputs": [
    {
     "data": {
      "image/png": "[encoded data removed]",
      "text/plain": [
       "<Figure size 432x288 with 1 Axes>"
      ]
     },
     "metadata": {},
     "output_type": "display_data"
    }
   ],
   "source": [
    "def normalized_boxplot(df: pd.DataFrame):\n",
    "    gdf = []\n",
    "    for col in df.columns[:-1]:\n",
    "        tdf = df[[col, \"risk_flag\"]].copy()\n",
    "        tdf[col] = (tdf[col] - tdf[col].min()) / (tdf[col].max() - tdf[col].min())\n",
    "        tdf.rename(columns={col: \"Value\", \"risk_flag\": \"risk_flag\"}, inplace=True)\n",
    "        tdf[\"Variable\"] = pd.Series(np.repeat([col], tdf.shape[0]))\n",
    "        gdf.append(tdf)\n",
    "    df =  pd.concat(gdf, axis=0)\n",
    "    sns.boxplot(x=\"Variable\", y=\"Value\", hue=\"risk_flag\", data=df, whis=0.5)\n",
    "    plt.xticks(rotation=45)\n",
    "    plt.xlabel(\"Variable\")\n",
    "    plt.ylabel(\"Min\\Max Normalized Value\")\n",
    "    plt.legend(loc=\"upper right\")\n",
    "    plt.show()\n",
    "normalized_boxplot(df_cont)"
   ]
  },
  {
   "cell_type": "code",
   "execution_count": 9,
   "id": "sufficient-forum",
   "metadata": {},
   "outputs": [
    {
     "name": "stdout",
     "output_type": "stream",
     "text": [
      "Baseline AUC_ROC = 0.5\n"
     ]
    }
   ],
   "source": [
    "from sklearn.metrics import roc_auc_score\n",
    "print(\"Baseline AUC_ROC = {}\".format(roc_auc_score(np.array(df_cont[\"risk_flag\"]), np.zeros((df_cont.shape[0],)))))"
   ]
  },
  {
   "cell_type": "markdown",
   "id": "complicated-strength",
   "metadata": {},
   "source": [
    "## Training on all continous features w/o binning"
   ]
  },
  {
   "cell_type": "code",
   "execution_count": null,
   "id": "north-authorization",
   "metadata": {},
   "outputs": [],
   "source": [
    "from sklearn.linear_model import LogisticRegression\n",
    "eval_model(LogisticRegression(class_weight=\"balanced\"), df_cont, scale_data=True)"
   ]
  },
  {
   "cell_type": "code",
   "execution_count": null,
   "id": "express-indonesian",
   "metadata": {},
   "outputs": [],
   "source": [
    "from sklearn.svm import LinearSVC\n",
    "eval_model(LinearSVC(class_weight=\"balanced\"), df_cont, scale_data=True)"
   ]
  },
  {
   "cell_type": "markdown",
   "id": "charming-given",
   "metadata": {},
   "source": [
    "### Observations:\n",
    "- for both `LinearSVC` and `LogisticRegerssion`, AUCROC is marginally above 0.5\n",
    "- score doesnt improve with hyperparameter tuning\n",
    "- not scaling the continous features has a detrimental effect\n",
    "- setting a balanced penalty function has no improvement"
   ]
  },
  {
   "cell_type": "code",
   "execution_count": null,
   "id": "subject-hawaiian",
   "metadata": {},
   "outputs": [],
   "source": [
    "from sklearn.svm import SVC\n",
    "eval_model(SVC(kernel=\"poly\"), df_cont, scale_data=True)"
   ]
  },
  {
   "cell_type": "code",
   "execution_count": null,
   "id": "better-tracy",
   "metadata": {},
   "outputs": [],
   "source": [
    "from sklearn.ensemble import RandomForestClassifier\n",
    "eval_model(RandomForestClassifier(), df_cont, scale_data=False)"
   ]
  },
  {
   "cell_type": "markdown",
   "id": "informative-convert",
   "metadata": {},
   "source": [
    "### Removing highly correlated features"
   ]
  },
  {
   "cell_type": "code",
   "execution_count": null,
   "id": "middle-teacher",
   "metadata": {},
   "outputs": [],
   "source": [
    "eval_model(RandomForestClassifier(class_weight=\"balanced\"), df_cont.drop(\"current_job_years\", axis=1), scale_data=False)"
   ]
  },
  {
   "cell_type": "markdown",
   "id": "nervous-enforcement",
   "metadata": {},
   "source": [
    "### Hyperparameter tuning for RandomForestClassifier"
   ]
  },
  {
   "cell_type": "code",
   "execution_count": 41,
   "id": "accomplished-dealing",
   "metadata": {},
   "outputs": [
    {
     "name": "stdout",
     "output_type": "stream",
     "text": [
      "[Parallel(n_jobs=4)]: Using backend LokyBackend with 4 concurrent workers.\n",
      "[Parallel(n_jobs=4)]: Done   1 tasks      | elapsed:  1.1min\n",
      "[Parallel(n_jobs=4)]: Done   2 out of   5 | elapsed:  1.1min remaining:  1.7min\n",
      "[Parallel(n_jobs=4)]: Done   3 out of   5 | elapsed:  1.1min remaining:   45.8s\n",
      "[Parallel(n_jobs=4)]: Done   5 out of   5 | elapsed:  1.5min remaining:    0.0s\n",
      "[Parallel(n_jobs=4)]: Done   5 out of   5 | elapsed:  1.5min finished\n",
      "0.89 ROC AUC with a standard deviation of 0.13\n",
      "[Parallel(n_jobs=4)]: Using backend LokyBackend with 4 concurrent workers.\n",
      "[Parallel(n_jobs=4)]: Done   1 tasks      | elapsed:  1.1min\n",
      "[Parallel(n_jobs=4)]: Done   2 out of   5 | elapsed:  1.2min remaining:  1.7min\n",
      "[Parallel(n_jobs=4)]: Done   3 out of   5 | elapsed:  1.2min remaining:   46.5s\n",
      "[Parallel(n_jobs=4)]: Done   5 out of   5 | elapsed:  1.6min remaining:    0.0s\n",
      "[Parallel(n_jobs=4)]: Done   5 out of   5 | elapsed:  1.6min finished\n",
      "0.90 ROC AUC with a standard deviation of 0.13\n",
      "[Parallel(n_jobs=4)]: Using backend LokyBackend with 4 concurrent workers.\n",
      "[Parallel(n_jobs=4)]: Done   1 tasks      | elapsed:  1.1min\n",
      "[Parallel(n_jobs=4)]: Done   2 out of   5 | elapsed:  1.1min remaining:  1.7min\n",
      "[Parallel(n_jobs=4)]: Done   3 out of   5 | elapsed:  1.1min remaining:   45.6s\n",
      "[Parallel(n_jobs=4)]: Done   5 out of   5 | elapsed:  1.5min remaining:    0.0s\n",
      "[Parallel(n_jobs=4)]: Done   5 out of   5 | elapsed:  1.5min finished\n",
      "0.90 ROC AUC with a standard deviation of 0.13\n",
      "[{'max_depth': 20, 'score': '0.8936810134347191 +- 0.12693208719219562'}, {'max_depth': 30, 'score': '0.8966279857517897 +- 0.12570867363348032'}, {'max_depth': 50, 'score': '0.8966878024096584 +- 0.1258892183253637'}]\n"
     ]
    }
   ],
   "source": [
    "max_depth = [20, 30, 50]\n",
    "results = []\n",
    "for d in max_depth:\n",
    "    clf = RandomForestClassifier(max_depth=d, verbose=1)\n",
    "    results.append({\"max_depth\": d, \n",
    "                    \"score\": eval_model(clf, df_cont, scale_data=False)\n",
    "                   })\n",
    "print(results)"
   ]
  },
  {
   "cell_type": "markdown",
   "id": "included-income",
   "metadata": {},
   "source": [
    "### Observations\n",
    "- increasing number of estimators does not improve score\n",
    "- scaling has no impact\n",
    "- removing `current_job_years` since it is highly correlated with `experience` has no impact\n",
    "- adding `class_weight=\"balanced\"` has no impact\n",
    "- no significant improvement with hyperparameter tuning"
   ]
  },
  {
   "cell_type": "markdown",
   "id": "after-canvas",
   "metadata": {},
   "source": [
    "# XGBoost"
   ]
  },
  {
   "cell_type": "code",
   "execution_count": 49,
   "id": "after-league",
   "metadata": {},
   "outputs": [
    {
     "name": "stdout",
     "output_type": "stream",
     "text": [
      "0.88 ROC AUC with a standard deviation of 0.15\n",
      "0.89 ROC AUC with a standard deviation of 0.14\n",
      "0.89 ROC AUC with a standard deviation of 0.14\n"
     ]
    }
   ],
   "source": [
    "from xgboost import XGBClassifier\n",
    "X, y = transform_feats(df_train.drop(\"risk_flag\", axis=1)), df_train[\"risk_flag\"].values\n",
    "\n",
    "max_depth = [40]\n",
    "for d in max_depth:\n",
    "    model = XGBClassifier(n_estimators=100, max_depth=d)\n",
    "    eval_model(clf=model, X=X, y=y, scale_data=False)"
   ]
  },
  {
   "cell_type": "code",
   "execution_count": null,
   "id": "waiting-sucking",
   "metadata": {},
   "outputs": [],
   "source": [
    "# Make submission file"
   ]
  },
  {
   "cell_type": "code",
   "execution_count": 26,
   "id": "global-queen",
   "metadata": {},
   "outputs": [
    {
     "name": "stdout",
     "output_type": "stream",
     "text": [
      "[19:34:25] WARNING: ../src/learner.cc:1061: Starting in XGBoost 1.3.0, the default evaluation metric used with the objective 'binary:logistic' was changed from 'error' to 'logloss'. Explicitly set eval_metric if you'd like to restore the old behavior.\n",
      "[[7393090      59      19      13]\n",
      " [1215004      25       5      10]\n",
      " [8901342      50      12      14]\n",
      " ...\n",
      " [8082415      24       5      13]\n",
      " [9474180      51      13      14]\n",
      " [9250350      42       9      10]]\n"
     ]
    }
   ],
   "source": [
    "from sklearn.ensemble import RandomForestClassifier\n",
    "# clf = RandomForestClassifier(n_jobs=-1, verbose=1)\n",
    "scale_pos_weight = sum(df_cont[\"risk_flag\"] == 0) / sum(df_cont[\"risk_flag\"] == 1)\n",
    "clf = XGBClassifier(n_estimators=500, use_label_encoder=False, scale_pos_weight=scale_pos_weight)\n",
    "clf = train(clf, df_train)\n",
    "submit_df = submission(clf, pd.read_csv(\"./test.csv\"))\n",
    "submit_df.to_csv(\"./submission.csv\", index=False)"
   ]
  }
 ],
 "metadata": {
  "kernelspec": {
   "display_name": "Python 3",
   "language": "python",
   "name": "python3"
  },
  "language_info": {
   "codemirror_mode": {
    "name": "ipython",
    "version": 3
   },
   "file_extension": ".py",
   "mimetype": "text/x-python",
   "name": "python",
   "nbconvert_exporter": "python",
   "pygments_lexer": "ipython3",
   "version": "3.7.6"
  }
 },
 "nbformat": 4,
 "nbformat_minor": 5
}
