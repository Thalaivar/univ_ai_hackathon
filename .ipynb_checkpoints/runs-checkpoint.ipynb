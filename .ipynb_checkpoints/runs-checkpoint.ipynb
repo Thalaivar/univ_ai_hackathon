{
 "cells": [
  {
   "cell_type": "code",
   "execution_count": 2,
   "metadata": {},
   "outputs": [],
   "source": [
    "from main import *"
   ]
  },
  {
   "cell_type": "code",
   "execution_count": 4,
   "metadata": {},
   "outputs": [],
   "source": [
    "model = RandomForestClassifier(\n",
    "            n_estimators=500,\n",
    "            n_jobs=-1,\n",
    "            max_features=1\n",
    "        )"
   ]
  },
  {
   "cell_type": "code",
   "execution_count": null,
   "metadata": {},
   "outputs": [],
   "source": [
    "models = {\n",
    "    \"RandomForestContv1\": [RandomForestClassifier(), [\"car_ownership\", \"house_ownership\", \"married\", \"profession\", \"city\", \"state\"]],\n",
    "    \"RandomForestAll\": [RandomForestClassifier(), []],\n",
    "    \"RandomForestContv2\": [RandomForestClassifier(), [\"profession\", \"city\", \"state\"]]\n",
    "}\n",
    "\n",
    "res = pd.DataFrame.from_dict(\n",
    "        {model_name: eval_model(model, data_preprocess(drop_cols)[0]) for model_name, (model, drop_cols) in models.items()}    \n",
    "    )\n",
    "sns.boxplot(data=res)"
   ]
  },
  {
   "cell_type": "code",
   "execution_count": 10,
   "metadata": {},
   "outputs": [
    {
     "data": {
      "text/plain": [
       "<AxesSubplot:>"
      ]
     },
     "execution_count": 10,
     "metadata": {},
     "output_type": "execute_result"
    },
    {
     "data": {
      "image/png": "[encoded data removed]",
      "text/plain": [
       "<Figure size 432x288 with 1 Axes>"
      ]
     },
     "metadata": {},
     "output_type": "display_data"
    }
   ],
   "source": [
    "def transformfn1(df):\n",
    "    median_state_income = df.groupby(\"state\").transform(\"median\")\n",
    "    df[\"income\"] = df[\"income\"] / median_state_income\n",
    "    return df"
   ]
  },
  {
   "cell_type": "code",
   "execution_count": 5,
   "metadata": {},
   "outputs": [],
   "source": [
    "df = data_preprocess([], [])[0]\n",
    "med = df.groupby(\"state\")[\"income\"].transform(\"median\")"
   ]
  },
  {
   "cell_type": "code",
   "execution_count": null,
   "metadata": {},
   "outputs": [],
   "source": []
  }
 ],
 "metadata": {
  "kernelspec": {
   "display_name": "Python 3",
   "language": "python",
   "name": "python3"
  },
  "language_info": {
   "codemirror_mode": {
    "name": "ipython",
    "version": 3
   },
   "file_extension": ".py",
   "mimetype": "text/x-python",
   "name": "python",
   "nbconvert_exporter": "python",
   "pygments_lexer": "ipython3",
   "version": "3.8.5"
  }
 },
 "nbformat": 4,
 "nbformat_minor": 4
}
