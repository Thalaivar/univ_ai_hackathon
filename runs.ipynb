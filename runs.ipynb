{
 "cells": [
  {
   "cell_type": "code",
   "execution_count": 1,
   "metadata": {},
   "outputs": [],
   "source": [
    "from main import *\n",
    "from sklearn import clone\n",
    "\n",
    "DROP_COLS = [\"car_ownership\", \"house_ownership\", \"married\"]"
   ]
  },
  {
   "cell_type": "code",
   "execution_count": null,
   "metadata": {},
   "outputs": [],
   "source": [
    "transforms = [\n",
    "    (correct_names, {\"cols\": [\"profession\", \"city\", \"state\"]}),\n",
    "    (scaled_income, {\"col\": \"city\", \"name\": \"income_by_city\"}),\n",
    "    (scaled_income, {\"col\": \"state\", \"name\": \"income_by_state\"}),\n",
    "    (scaled_income, {\"col\": \"profession\", \"name\": \"income_by_prof\"}),\n",
    "    (scale_cols, {\"col\": \"income\", \"scale_col\": \"current_job_years\", \"name\": \"income_by_jobyrs\"}),\n",
    "    (scale_cols, {\"col\": \"income\", \"scale_col\": \"age\", \"name\": \"income_by_age\"}),\n",
    "    (scale_cols, {\"col\": \"income\", \"scale_col\": \"experience\", \"name\": \"income_by_exp\"}),\n",
    "    (scale_cols, {\"col\": \"age\", \"scale_col\": \"experience\", \"name\": \"age_by_experience\"}),\n",
    "    (add_house_status, {}),\n",
    "    (add_job_status, {})\n",
    "]\n",
    "\n",
    "df_train, df_test = data_preprocess([], transforms)\n",
    "df_train.head(10)"
   ]
  },
  {
   "cell_type": "code",
   "execution_count": null,
   "metadata": {},
   "outputs": [],
   "source": [
    "col = \"current_job_years\"\n",
    "sns.histplot(x=col, data=df_train, label=\"train\", color='g', stat=\"density\", binwidth=1, alpha=0.5)\n",
    "sns.histplot(x=col, data=df_test, label=\"test\", color='r', stat=\"density\", binwidth=1, alpha=0.5)\n",
    "plt.show()"
   ]
  },
  {
   "cell_type": "code",
   "execution_count": null,
   "metadata": {
    "scrolled": true
   },
   "outputs": [],
   "source": [
    "model = RandomForestClassifier(n_jobs=-1, class_weight=\"balanced\", max_features=1)\n",
    "model = train_model(model, df_train)\n",
    "features = df_train.drop(\"risk_flag\", axis=1).columns\n",
    "importances = model.feature_importances_\n",
    "indices = np.argsort(importances)\n",
    "\n",
    "plt.title('Feature Importances')\n",
    "plt.barh(range(len(indices)), importances[indices], color='b', align='center')\n",
    "plt.yticks(range(len(indices)), [features[i] for i in indices])\n",
    "plt.xlabel('Relative Importance')\n",
    "plt.show()"
   ]
  },
  {
   "cell_type": "code",
   "execution_count": null,
   "metadata": {},
   "outputs": [],
   "source": [
    "clf = RandomForestClassifier(n_jobs=-1, class_weight=\"balanced\", max_features=1)\n",
    "models = {\n",
    "    \"RandomForestV1\": [clone(clf), [\"car_ownership\", \"house_ownership\", \"married\", \"profession\", \"city\", \"state\"]],\n",
    "    \"RandomForestAll\": [clone(clf), []],\n",
    "    \"RandomForestV2\": [clone(clf), [\"profession\", \"city\", \"state\"]],\n",
    "    \"RandomForestV3\": [clone(clf), [\"car_ownership\", \"house_ownership\", \"married\"]]\n",
    "}\n",
    "\n",
    "res = pd.DataFrame.from_dict(\n",
    "        {model_name: eval_model(model, data_preprocess(drop_cols, transforms)[0]) for model_name, (model, drop_cols) in models.items()}    \n",
    "    )\n",
    "sns.boxplot(data=res)"
   ]
  },
  {
   "cell_type": "code",
   "execution_count": null,
   "metadata": {},
   "outputs": [],
   "source": [
    "model = RandomForestClassifier(n_estimators=1000, max_features=1, class_weight=\"balanced\", n_jobs=-1)\n",
    "df_train, df_test = data_preprocess(drop_cols=[\"car_ownership\", \"house_ownership\", \"married\"], transform_fns=transforms)\n",
    "sub = make_submission(model, df_train, df_test)\n",
    "sub.to_csv(\"./tuning_rf/sub4.csv\")"
   ]
  },
  {
   "cell_type": "markdown",
   "metadata": {},
   "source": [
    "## Note: can safely remove `[\"car_ownership\", \"house_ownership\", \"married\"]`"
   ]
  },
  {
   "cell_type": "code",
   "execution_count": null,
   "metadata": {
    "scrolled": true
   },
   "outputs": [],
   "source": [
    "drop_cols = [\"car_ownership\", \"house_ownership\", \"married\"]\n",
    "df_train = data_preprocess(drop_cols, [transformfn1])[0]\n",
    "\n",
    "param = \"max_features\"\n",
    "par_vals = [i+1 for i in range(0, df_train.shape[1]-1, 2)]\n",
    "\n",
    "res = pd.DataFrame.from_dict(\n",
    "        {f\"{param}_{val}\": eval_model(RandomForestClassifier(n_jobs=-1, **{param: val}), df_train)\n",
    "                                      for val in par_vals}\n",
    "    )\n",
    "sns.boxplot(data=res)"
   ]
  },
  {
   "cell_type": "markdown",
   "metadata": {},
   "source": [
    "## Note: a smaller `max_features` value seems better\n",
    "---"
   ]
  },
  {
   "cell_type": "code",
   "execution_count": null,
   "metadata": {},
   "outputs": [],
   "source": [
    "drop_cols = [\"car_ownership\", \"house_ownership\", \"married\"]\n",
    "df_train = data_preprocess(drop_cols, [income_by_state])[0]\n",
    "\n",
    "param = \"colsample_bytree\"\n",
    "par_vals = [0.6, 0.7, 0.8, 0.9]\n",
    "\n",
    "res = pd.DataFrame.from_dict(\n",
    "        {f\"{param}_{val}\": eval_model(XGBClassifier(\n",
    "            n_estimators=200, \n",
    "            learning_rate=0.1,\n",
    "            reg_alpha=1e-3,\n",
    "            tree_method=\"gpu_hist\",\n",
    "            scale_pos_weight=12,\n",
    "            **{param: val}), df_train)\n",
    "                                      for val in par_vals}\n",
    "    )\n",
    "sns.boxplot(data=res)"
   ]
  },
  {
   "cell_type": "code",
   "execution_count": null,
   "metadata": {
    "scrolled": false
   },
   "outputs": [],
   "source": [
    "from sklearn.ensemble import StackingClassifier\n",
    "models = [\n",
    "    (\"rfV1\", RandomForestClassifier(n_estimators=200, n_jobs=2)),\n",
    "    (\"rfV2\", RandomForestClassifier(n_estimators=200, class_weight=\"balanced\", max_features=1, n_jobs=2)),\n",
    "    (\"xgb\", XGBClassifier(n_estimators=5000, \n",
    "            learning_rate=0.01,\n",
    "            tree_method=\"gpu_hist\",\n",
    "            scale_pos_weight=7.13,\n",
    "            min_child_weight=2,\n",
    "            colsample_bytree=0.6)),\n",
    "]\n",
    "\n",
    "final_estimator = RandomForestClassifier(n_estimators=1000, class_weight=\"balanced\", n_jobs=2)\n",
    "model = StackingClassifier(estimators=models, final_estimator=final_estimator, cv=CV, verbose=1000)\n",
    "\n",
    "df_train = data_preprocess(DROP_COLS, [income_by_state])[0]\n",
    "eval_model(model, df_train)"
   ]
  },
  {
   "cell_type": "code",
   "execution_count": 4,
   "metadata": {
    "scrolled": true
   },
   "outputs": [
    {
     "name": "stdout",
     "output_type": "stream",
     "text": [
      "Training data shape: (252000, 17) ; Test data shape: (28000, 16)\n"
     ]
    },
    {
     "data": {
      "text/html": [
       "<div>\n",
       "<style scoped>\n",
       "    .dataframe tbody tr th:only-of-type {\n",
       "        vertical-align: middle;\n",
       "    }\n",
       "\n",
       "    .dataframe tbody tr th {\n",
       "        vertical-align: top;\n",
       "    }\n",
       "\n",
       "    .dataframe thead th {\n",
       "        text-align: right;\n",
       "    }\n",
       "</style>\n",
       "<table border=\"1\" class=\"dataframe\">\n",
       "  <thead>\n",
       "    <tr style=\"text-align: right;\">\n",
       "      <th></th>\n",
       "      <th>income</th>\n",
       "      <th>age</th>\n",
       "      <th>experience</th>\n",
       "      <th>married</th>\n",
       "      <th>house_ownership</th>\n",
       "      <th>car_ownership</th>\n",
       "      <th>profession</th>\n",
       "      <th>city</th>\n",
       "      <th>state</th>\n",
       "      <th>current_job_years</th>\n",
       "      <th>current_house_years</th>\n",
       "      <th>risk_flag</th>\n",
       "      <th>current_job_years_per_experience</th>\n",
       "      <th>age_per_experience</th>\n",
       "      <th>default_per_city</th>\n",
       "      <th>default_per_state</th>\n",
       "      <th>default_per_profession</th>\n",
       "    </tr>\n",
       "  </thead>\n",
       "  <tbody>\n",
       "    <tr>\n",
       "      <th>0</th>\n",
       "      <td>1303835</td>\n",
       "      <td>23</td>\n",
       "      <td>3</td>\n",
       "      <td>1</td>\n",
       "      <td>2</td>\n",
       "      <td>0</td>\n",
       "      <td>33</td>\n",
       "      <td>251</td>\n",
       "      <td>13</td>\n",
       "      <td>3</td>\n",
       "      <td>13</td>\n",
       "      <td>0</td>\n",
       "      <td>1.000000</td>\n",
       "      <td>7.666667</td>\n",
       "      <td>0.121554</td>\n",
       "      <td>0.154369</td>\n",
       "      <td>0.111558</td>\n",
       "    </tr>\n",
       "    <tr>\n",
       "      <th>1</th>\n",
       "      <td>7574516</td>\n",
       "      <td>40</td>\n",
       "      <td>10</td>\n",
       "      <td>1</td>\n",
       "      <td>2</td>\n",
       "      <td>0</td>\n",
       "      <td>43</td>\n",
       "      <td>227</td>\n",
       "      <td>14</td>\n",
       "      <td>9</td>\n",
       "      <td>13</td>\n",
       "      <td>0</td>\n",
       "      <td>0.900000</td>\n",
       "      <td>4.000000</td>\n",
       "      <td>0.122497</td>\n",
       "      <td>0.113254</td>\n",
       "      <td>0.148427</td>\n",
       "    </tr>\n",
       "    <tr>\n",
       "      <th>2</th>\n",
       "      <td>3991815</td>\n",
       "      <td>66</td>\n",
       "      <td>4</td>\n",
       "      <td>0</td>\n",
       "      <td>2</td>\n",
       "      <td>0</td>\n",
       "      <td>47</td>\n",
       "      <td>8</td>\n",
       "      <td>12</td>\n",
       "      <td>4</td>\n",
       "      <td>10</td>\n",
       "      <td>0</td>\n",
       "      <td>1.000000</td>\n",
       "      <td>16.500000</td>\n",
       "      <td>0.130814</td>\n",
       "      <td>0.167097</td>\n",
       "      <td>0.134167</td>\n",
       "    </tr>\n",
       "    <tr>\n",
       "      <th>3</th>\n",
       "      <td>6256451</td>\n",
       "      <td>41</td>\n",
       "      <td>2</td>\n",
       "      <td>1</td>\n",
       "      <td>2</td>\n",
       "      <td>1</td>\n",
       "      <td>43</td>\n",
       "      <td>54</td>\n",
       "      <td>17</td>\n",
       "      <td>2</td>\n",
       "      <td>12</td>\n",
       "      <td>1</td>\n",
       "      <td>1.000000</td>\n",
       "      <td>20.500000</td>\n",
       "      <td>0.326194</td>\n",
       "      <td>0.142550</td>\n",
       "      <td>0.148427</td>\n",
       "    </tr>\n",
       "    <tr>\n",
       "      <th>4</th>\n",
       "      <td>5768871</td>\n",
       "      <td>47</td>\n",
       "      <td>11</td>\n",
       "      <td>1</td>\n",
       "      <td>2</td>\n",
       "      <td>0</td>\n",
       "      <td>11</td>\n",
       "      <td>296</td>\n",
       "      <td>22</td>\n",
       "      <td>3</td>\n",
       "      <td>14</td>\n",
       "      <td>1</td>\n",
       "      <td>0.272727</td>\n",
       "      <td>4.272727</td>\n",
       "      <td>0.121137</td>\n",
       "      <td>0.103163</td>\n",
       "      <td>0.115794</td>\n",
       "    </tr>\n",
       "  </tbody>\n",
       "</table>\n",
       "</div>"
      ],
      "text/plain": [
       "    income  age  experience  married  house_ownership  car_ownership  \\\n",
       "0  1303835   23           3        1                2              0   \n",
       "1  7574516   40          10        1                2              0   \n",
       "2  3991815   66           4        0                2              0   \n",
       "3  6256451   41           2        1                2              1   \n",
       "4  5768871   47          11        1                2              0   \n",
       "\n",
       "   profession  city  state  current_job_years  current_house_years  risk_flag  \\\n",
       "0          33   251     13                  3                   13          0   \n",
       "1          43   227     14                  9                   13          0   \n",
       "2          47     8     12                  4                   10          0   \n",
       "3          43    54     17                  2                   12          1   \n",
       "4          11   296     22                  3                   14          1   \n",
       "\n",
       "   current_job_years_per_experience  age_per_experience  default_per_city  \\\n",
       "0                          1.000000            7.666667          0.121554   \n",
       "1                          0.900000            4.000000          0.122497   \n",
       "2                          1.000000           16.500000          0.130814   \n",
       "3                          1.000000           20.500000          0.326194   \n",
       "4                          0.272727            4.272727          0.121137   \n",
       "\n",
       "   default_per_state  default_per_profession  \n",
       "0           0.154369                0.111558  \n",
       "1           0.113254                0.148427  \n",
       "2           0.167097                0.134167  \n",
       "3           0.142550                0.148427  \n",
       "4           0.103163                0.115794  "
      ]
     },
     "execution_count": 4,
     "metadata": {},
     "output_type": "execute_result"
    }
   ],
   "source": [
    "df_train, df_test = data_preprocess(\n",
    "        drop_cols=[],\n",
    "        single_transforms=SINGLE_TRANSFORMS,\n",
    "        double_transforms=DOUBLE_TRANSFORMS\n",
    "    )\n",
    "df_train.head()"
   ]
  },
  {
   "cell_type": "code",
   "execution_count": 13,
   "metadata": {},
   "outputs": [
    {
     "data": {
      "text/plain": [
       "nan"
      ]
     },
     "execution_count": 13,
     "metadata": {},
     "output_type": "execute_result"
    }
   ],
   "source": [
    "y = df_train[\"current_job_years_per_experience\"].values\n",
    "y[-2]\n"
   ]
  },
  {
   "cell_type": "code",
   "execution_count": null,
   "metadata": {},
   "outputs": [],
   "source": [
    "from sklearn.model_selection import train_test_split\n",
    "def get_model_outputs(models):\n",
    "    df_train = data_preprocess(\n",
    "            drop_cols=[\"car_ownership\", \"house_ownership\", \"married\"],\n",
    "            transform_fns=[income_by_state]\n",
    "        )[0]\n",
    "\n",
    "    scores = {}\n",
    "    for name, model in models.items():\n",
    "        print(f\"Cross-validating: {name}\")\n",
    "        scores[name] = eval_model(model, df_train)\n",
    "    scores = pd.DataFrame.from_dict(scores)\n",
    "    \n",
    "    X, y = df_train.drop(\"risk_flag\", axis=1).values, df_train[\"risk_flag\"].values\n",
    "    X_train, X_test, y_train, y_test = train_test_split(X, y, test_size=0.33)\n",
    "    \n",
    "    for name in models.keys():\n",
    "        models[name].fit(X_train, y_train)\n",
    "    \n",
    "    preds = {name: model.predict(X_test) for name, model in models.items()}\n",
    "    return preds, scores"
   ]
  }
 ],
 "metadata": {
  "kernelspec": {
   "display_name": "Python 3",
   "language": "python",
   "name": "python3"
  },
  "language_info": {
   "codemirror_mode": {
    "name": "ipython",
    "version": 3
   },
   "file_extension": ".py",
   "mimetype": "text/x-python",
   "name": "python",
   "nbconvert_exporter": "python",
   "pygments_lexer": "ipython3",
   "version": "3.8.5"
  }
 },
 "nbformat": 4,
 "nbformat_minor": 4
}
