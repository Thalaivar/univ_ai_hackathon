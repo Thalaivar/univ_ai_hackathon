{
 "cells": [
  {
   "cell_type": "code",
   "execution_count": 1,
   "metadata": {},
   "outputs": [],
   "source": [
    "from main import *\n",
    "from sklearn import clone\n",
    "\n",
    "DROP_COLS = [\"car_ownership\", \"house_ownership\", \"married\"]"
   ]
  },
  {
   "cell_type": "code",
   "execution_count": 2,
   "metadata": {},
   "outputs": [
    {
     "name": "stdout",
     "output_type": "stream",
     "text": [
      "Training data shape: (252000, 15) ; Test data shape: (28000, 14)\n"
     ]
    },
    {
     "data": {
      "text/html": [
       "<div>\n",
       "<style scoped>\n",
       "    .dataframe tbody tr th:only-of-type {\n",
       "        vertical-align: middle;\n",
       "    }\n",
       "\n",
       "    .dataframe tbody tr th {\n",
       "        vertical-align: top;\n",
       "    }\n",
       "\n",
       "    .dataframe thead th {\n",
       "        text-align: right;\n",
       "    }\n",
       "</style>\n",
       "<table border=\"1\" class=\"dataframe\">\n",
       "  <thead>\n",
       "    <tr style=\"text-align: right;\">\n",
       "      <th></th>\n",
       "      <th>income</th>\n",
       "      <th>age</th>\n",
       "      <th>experience</th>\n",
       "      <th>married</th>\n",
       "      <th>house_ownership</th>\n",
       "      <th>car_ownership</th>\n",
       "      <th>profession</th>\n",
       "      <th>city</th>\n",
       "      <th>state</th>\n",
       "      <th>current_job_years</th>\n",
       "      <th>current_house_years</th>\n",
       "      <th>risk_flag</th>\n",
       "      <th>income_per_state</th>\n",
       "      <th>income_per_profession</th>\n",
       "      <th>has_house</th>\n",
       "    </tr>\n",
       "  </thead>\n",
       "  <tbody>\n",
       "    <tr>\n",
       "      <th>0</th>\n",
       "      <td>1303835</td>\n",
       "      <td>23</td>\n",
       "      <td>3</td>\n",
       "      <td>1</td>\n",
       "      <td>2</td>\n",
       "      <td>0</td>\n",
       "      <td>33</td>\n",
       "      <td>251</td>\n",
       "      <td>13</td>\n",
       "      <td>3</td>\n",
       "      <td>13</td>\n",
       "      <td>0</td>\n",
       "      <td>4735088.0</td>\n",
       "      <td>5351331.0</td>\n",
       "      <td>0</td>\n",
       "    </tr>\n",
       "    <tr>\n",
       "      <th>1</th>\n",
       "      <td>7574516</td>\n",
       "      <td>40</td>\n",
       "      <td>10</td>\n",
       "      <td>1</td>\n",
       "      <td>2</td>\n",
       "      <td>0</td>\n",
       "      <td>43</td>\n",
       "      <td>227</td>\n",
       "      <td>14</td>\n",
       "      <td>9</td>\n",
       "      <td>13</td>\n",
       "      <td>0</td>\n",
       "      <td>5192166.5</td>\n",
       "      <td>4994848.0</td>\n",
       "      <td>0</td>\n",
       "    </tr>\n",
       "    <tr>\n",
       "      <th>2</th>\n",
       "      <td>3991815</td>\n",
       "      <td>66</td>\n",
       "      <td>4</td>\n",
       "      <td>0</td>\n",
       "      <td>2</td>\n",
       "      <td>0</td>\n",
       "      <td>47</td>\n",
       "      <td>8</td>\n",
       "      <td>12</td>\n",
       "      <td>4</td>\n",
       "      <td>10</td>\n",
       "      <td>0</td>\n",
       "      <td>5421502.0</td>\n",
       "      <td>4813985.0</td>\n",
       "      <td>0</td>\n",
       "    </tr>\n",
       "    <tr>\n",
       "      <th>3</th>\n",
       "      <td>6256451</td>\n",
       "      <td>41</td>\n",
       "      <td>2</td>\n",
       "      <td>1</td>\n",
       "      <td>2</td>\n",
       "      <td>1</td>\n",
       "      <td>43</td>\n",
       "      <td>54</td>\n",
       "      <td>17</td>\n",
       "      <td>2</td>\n",
       "      <td>12</td>\n",
       "      <td>1</td>\n",
       "      <td>4834921.5</td>\n",
       "      <td>4994848.0</td>\n",
       "      <td>0</td>\n",
       "    </tr>\n",
       "    <tr>\n",
       "      <th>4</th>\n",
       "      <td>5768871</td>\n",
       "      <td>47</td>\n",
       "      <td>11</td>\n",
       "      <td>1</td>\n",
       "      <td>2</td>\n",
       "      <td>0</td>\n",
       "      <td>11</td>\n",
       "      <td>296</td>\n",
       "      <td>22</td>\n",
       "      <td>3</td>\n",
       "      <td>14</td>\n",
       "      <td>1</td>\n",
       "      <td>5074244.0</td>\n",
       "      <td>5056892.0</td>\n",
       "      <td>0</td>\n",
       "    </tr>\n",
       "    <tr>\n",
       "      <th>5</th>\n",
       "      <td>6915937</td>\n",
       "      <td>64</td>\n",
       "      <td>0</td>\n",
       "      <td>1</td>\n",
       "      <td>2</td>\n",
       "      <td>0</td>\n",
       "      <td>11</td>\n",
       "      <td>130</td>\n",
       "      <td>14</td>\n",
       "      <td>0</td>\n",
       "      <td>12</td>\n",
       "      <td>0</td>\n",
       "      <td>5192166.5</td>\n",
       "      <td>5056892.0</td>\n",
       "      <td>0</td>\n",
       "    </tr>\n",
       "    <tr>\n",
       "      <th>6</th>\n",
       "      <td>3954973</td>\n",
       "      <td>58</td>\n",
       "      <td>14</td>\n",
       "      <td>0</td>\n",
       "      <td>2</td>\n",
       "      <td>0</td>\n",
       "      <td>31</td>\n",
       "      <td>299</td>\n",
       "      <td>22</td>\n",
       "      <td>8</td>\n",
       "      <td>12</td>\n",
       "      <td>0</td>\n",
       "      <td>5074244.0</td>\n",
       "      <td>5384499.0</td>\n",
       "      <td>0</td>\n",
       "    </tr>\n",
       "    <tr>\n",
       "      <th>7</th>\n",
       "      <td>1706172</td>\n",
       "      <td>33</td>\n",
       "      <td>2</td>\n",
       "      <td>1</td>\n",
       "      <td>2</td>\n",
       "      <td>0</td>\n",
       "      <td>20</td>\n",
       "      <td>134</td>\n",
       "      <td>6</td>\n",
       "      <td>2</td>\n",
       "      <td>14</td>\n",
       "      <td>0</td>\n",
       "      <td>5265885.0</td>\n",
       "      <td>4940114.0</td>\n",
       "      <td>0</td>\n",
       "    </tr>\n",
       "    <tr>\n",
       "      <th>8</th>\n",
       "      <td>7566849</td>\n",
       "      <td>24</td>\n",
       "      <td>17</td>\n",
       "      <td>1</td>\n",
       "      <td>2</td>\n",
       "      <td>1</td>\n",
       "      <td>25</td>\n",
       "      <td>165</td>\n",
       "      <td>20</td>\n",
       "      <td>11</td>\n",
       "      <td>11</td>\n",
       "      <td>0</td>\n",
       "      <td>5315413.0</td>\n",
       "      <td>4608251.0</td>\n",
       "      <td>0</td>\n",
       "    </tr>\n",
       "    <tr>\n",
       "      <th>9</th>\n",
       "      <td>8964846</td>\n",
       "      <td>23</td>\n",
       "      <td>12</td>\n",
       "      <td>1</td>\n",
       "      <td>2</td>\n",
       "      <td>0</td>\n",
       "      <td>2</td>\n",
       "      <td>149</td>\n",
       "      <td>23</td>\n",
       "      <td>5</td>\n",
       "      <td>13</td>\n",
       "      <td>0</td>\n",
       "      <td>4942553.0</td>\n",
       "      <td>4950300.0</td>\n",
       "      <td>0</td>\n",
       "    </tr>\n",
       "  </tbody>\n",
       "</table>\n",
       "</div>"
      ],
      "text/plain": [
       "    income  age  experience  married  house_ownership  car_ownership  \\\n",
       "0  1303835   23           3        1                2              0   \n",
       "1  7574516   40          10        1                2              0   \n",
       "2  3991815   66           4        0                2              0   \n",
       "3  6256451   41           2        1                2              1   \n",
       "4  5768871   47          11        1                2              0   \n",
       "5  6915937   64           0        1                2              0   \n",
       "6  3954973   58          14        0                2              0   \n",
       "7  1706172   33           2        1                2              0   \n",
       "8  7566849   24          17        1                2              1   \n",
       "9  8964846   23          12        1                2              0   \n",
       "\n",
       "   profession  city  state  current_job_years  current_house_years  risk_flag  \\\n",
       "0          33   251     13                  3                   13          0   \n",
       "1          43   227     14                  9                   13          0   \n",
       "2          47     8     12                  4                   10          0   \n",
       "3          43    54     17                  2                   12          1   \n",
       "4          11   296     22                  3                   14          1   \n",
       "5          11   130     14                  0                   12          0   \n",
       "6          31   299     22                  8                   12          0   \n",
       "7          20   134      6                  2                   14          0   \n",
       "8          25   165     20                 11                   11          0   \n",
       "9           2   149     23                  5                   13          0   \n",
       "\n",
       "   income_per_state  income_per_profession  has_house  \n",
       "0         4735088.0              5351331.0          0  \n",
       "1         5192166.5              4994848.0          0  \n",
       "2         5421502.0              4813985.0          0  \n",
       "3         4834921.5              4994848.0          0  \n",
       "4         5074244.0              5056892.0          0  \n",
       "5         5192166.5              5056892.0          0  \n",
       "6         5074244.0              5384499.0          0  \n",
       "7         5265885.0              4940114.0          0  \n",
       "8         5315413.0              4608251.0          0  \n",
       "9         4942553.0              4950300.0          0  "
      ]
     },
     "execution_count": 2,
     "metadata": {},
     "output_type": "execute_result"
    }
   ],
   "source": [
    "df_train, df_test = data_preprocess([], SINGLE_TRANSFORMS, DOUBLE_TRANSFORMS)\n",
    "df_train.head(10)"
   ]
  },
  {
   "cell_type": "code",
   "execution_count": null,
   "metadata": {},
   "outputs": [],
   "source": [
    "col = \"current_job_years\"\n",
    "sns.histplot(x=col, data=df_train, label=\"train\", color='g', stat=\"density\", binwidth=1, alpha=0.5)\n",
    "sns.histplot(x=col, data=df_test, label=\"test\", color='r', stat=\"density\", binwidth=1, alpha=0.5)\n",
    "plt.show()"
   ]
  },
  {
   "cell_type": "code",
   "execution_count": 15,
   "metadata": {},
   "outputs": [
    {
     "data": {
      "text/plain": [
       "<AxesSubplot:xlabel='city', ylabel='state'>"
      ]
     },
     "execution_count": 15,
     "metadata": {},
     "output_type": "execute_result"
    },
    {
     "data": {
      "image/png": "[encoded data removed]",
      "text/plain": [
       "<Figure size 432x288 with 2 Axes>"
      ]
     },
     "metadata": {},
     "output_type": "display_data"
    }
   ],
   "source": [
    "sns.heatmap(df_train.pivot_table(values=\"risk_flag\", index=\"state\", columns=\"city\", aggfunc=\"sum\"))"
   ]
  },
  {
   "cell_type": "code",
   "execution_count": 3,
   "metadata": {
    "scrolled": true
   },
   "outputs": [
    {
     "data": {
      "image/png": "[encoded data removed]",
      "text/plain": [
       "<Figure size 432x288 with 1 Axes>"
      ]
     },
     "metadata": {},
     "output_type": "display_data"
    }
   ],
   "source": [
    "model = RandomForestClassifier(n_jobs=-1, class_weight=\"balanced\", max_features=1)\n",
    "model = train_model(model, df_train)\n",
    "features = df_train.drop(\"risk_flag\", axis=1).columns\n",
    "importances = model.feature_importances_\n",
    "indices = np.argsort(importances)\n",
    "\n",
    "plt.title('Feature Importances')\n",
    "plt.barh(range(len(indices)), importances[indices], color='b', align='center')\n",
    "plt.yticks(range(len(indices)), [features[i] for i in indices])\n",
    "plt.xlabel('Relative Importance')\n",
    "plt.show()"
   ]
  },
  {
   "cell_type": "code",
   "execution_count": 4,
   "metadata": {},
   "outputs": [
    {
     "name": "stdout",
     "output_type": "stream",
     "text": [
      "Training data shape: (252000, 11) ; Test data shape: (28000, 10)\n",
      "Training data shape: (252000, 17) ; Test data shape: (28000, 16)\n",
      "Training data shape: (252000, 14) ; Test data shape: (28000, 13)\n",
      "Training data shape: (252000, 14) ; Test data shape: (28000, 13)\n"
     ]
    },
    {
     "data": {
      "text/plain": [
       "<AxesSubplot:>"
      ]
     },
     "execution_count": 4,
     "metadata": {},
     "output_type": "execute_result"
    },
    {
     "data": {
      "image/png": "[encoded data removed]",
      "text/plain": [
       "<Figure size 432x288 with 1 Axes>"
      ]
     },
     "metadata": {},
     "output_type": "display_data"
    }
   ],
   "source": [
    "clf = RandomForestClassifier(n_jobs=-1, class_weight=\"balanced\", max_features=1)\n",
    "models = {\n",
    "    \"RandomForestV1\": [clone(clf), [\"car_ownership\", \"house_ownership\", \"married\", \"profession\", \"city\", \"state\"]],\n",
    "    \"RandomForestAll\": [clone(clf), []],\n",
    "    \"RandomForestV2\": [clone(clf), [\"profession\", \"city\", \"state\"]],\n",
    "    \"RandomForestV3\": [clone(clf), [\"car_ownership\", \"house_ownership\", \"married\"]]\n",
    "}\n",
    "\n",
    "res = pd.DataFrame.from_dict(\n",
    "        {model_name: eval_model(model, data_preprocess(drop_cols, SINGLE_TRANSFORMS, DOUBLE_TRANSFORMS)[0]) for model_name, (model, drop_cols) in models.items()}    \n",
    "    )\n",
    "sns.boxplot(data=res)"
   ]
  },
  {
   "cell_type": "code",
   "execution_count": null,
   "metadata": {},
   "outputs": [],
   "source": [
    "model = RandomForestClassifier(n_estimators=1000, max_features=1, class_weight=\"balanced\", n_jobs=-1)\n",
    "df_train, df_test = data_preprocess(drop_cols=[\"car_ownership\", \"house_ownership\", \"married\"], transform_fns=transforms)\n",
    "sub = make_submission(model, df_train, df_test)\n",
    "sub.to_csv(\"./tuning_rf/sub4.csv\")"
   ]
  },
  {
   "cell_type": "markdown",
   "metadata": {},
   "source": [
    "## Note: can safely remove `[\"car_ownership\", \"house_ownership\", \"married\"]`"
   ]
  },
  {
   "cell_type": "code",
   "execution_count": 2,
   "metadata": {
    "scrolled": true
   },
   "outputs": [
    {
     "name": "stdout",
     "output_type": "stream",
     "text": [
      "Training data shape: (252000, 14) ; Test data shape: (28000, 13)\n"
     ]
    },
    {
     "data": {
      "text/plain": [
       "<AxesSubplot:>"
      ]
     },
     "execution_count": 2,
     "metadata": {},
     "output_type": "execute_result"
    },
    {
     "data": {
      "image/png": "[encoded data removed]",
      "text/plain": [
       "<Figure size 432x288 with 1 Axes>"
      ]
     },
     "metadata": {},
     "output_type": "display_data"
    }
   ],
   "source": [
    "drop_cols = [\"car_ownership\", \"house_ownership\", \"married\"]\n",
    "df_train = data_preprocess(drop_cols, SINGLE_TRANSFORMS, DOUBLE_TRANSFORMS)[0]\n",
    "\n",
    "param = \"n_estimators\"\n",
    "par_vals = [100, 200, 500, 1000]\n",
    "\n",
    "res = pd.DataFrame.from_dict(\n",
    "        {f\"{param}_{val}\": eval_model(RandomForestClassifier(n_jobs=-1, **{param: val}), df_train)\n",
    "                                      for val in par_vals}\n",
    "    )\n",
    "sns.boxplot(data=res)"
   ]
  },
  {
   "cell_type": "markdown",
   "metadata": {},
   "source": [
    "## Note: a smaller `max_features` value seems better\n",
    "---"
   ]
  },
  {
   "cell_type": "code",
   "execution_count": null,
   "metadata": {},
   "outputs": [],
   "source": [
    "drop_cols = [\"car_ownership\", \"house_ownership\", \"married\"]\n",
    "df_train = data_preprocess(drop_cols, [income_by_state])[0]\n",
    "\n",
    "param = \"colsample_bytree\"\n",
    "par_vals = [0.6, 0.7, 0.8, 0.9]\n",
    "\n",
    "res = pd.DataFrame.from_dict(\n",
    "        {f\"{param}_{val}\": eval_model(XGBClassifier(\n",
    "            n_estimators=200, \n",
    "            learning_rate=0.1,\n",
    "            reg_alpha=1e-3,\n",
    "            tree_method=\"gpu_hist\",\n",
    "            scale_pos_weight=12,\n",
    "            **{param: val}), df_train)\n",
    "                                      for val in par_vals}\n",
    "    )\n",
    "sns.boxplot(data=res)"
   ]
  },
  {
   "cell_type": "code",
   "execution_count": null,
   "metadata": {
    "scrolled": false
   },
   "outputs": [],
   "source": [
    "from sklearn.ensemble import StackingClassifier\n",
    "models = [\n",
    "    (\"rfV1\", RandomForestClassifier(n_estimators=200, n_jobs=2)),\n",
    "    (\"rfV2\", RandomForestClassifier(n_estimators=200, class_weight=\"balanced\", max_features=1, n_jobs=2)),\n",
    "    (\"xgb\", XGBClassifier(n_estimators=5000, \n",
    "            learning_rate=0.01,\n",
    "            tree_method=\"gpu_hist\",\n",
    "            scale_pos_weight=7.13,\n",
    "            min_child_weight=2,\n",
    "            colsample_bytree=0.6)),\n",
    "]\n",
    "\n",
    "final_estimator = RandomForestClassifier(n_estimators=1000, class_weight=\"balanced\", n_jobs=2)\n",
    "model = StackingClassifier(estimators=models, final_estimator=final_estimator, cv=CV, verbose=1000)\n",
    "\n",
    "df_train = data_preprocess(DROP_COLS, [income_by_state])[0]\n",
    "eval_model(model, df_train)"
   ]
  },
  {
   "cell_type": "code",
   "execution_count": null,
   "metadata": {
    "scrolled": true
   },
   "outputs": [],
   "source": [
    "df_train = data_preprocess([], SINGLE_TRANSFORMS, DOUBLE_TRANSFORMS)[0]\n",
    "sns.heatmap(x=\"state\", y=\"house_ownership\", hue=\"risk_flag\")"
   ]
  },
  {
   "cell_type": "code",
   "execution_count": null,
   "metadata": {},
   "outputs": [],
   "source": [
    "from sklearn.model_selection import train_test_split\n",
    "def get_model_outputs(models):\n",
    "    df_train = data_preprocess(\n",
    "            drop_cols=[\"car_ownership\", \"house_ownership\", \"married\"],\n",
    "            transform_fns=[income_by_state]\n",
    "        )[0]\n",
    "\n",
    "    scores = {}\n",
    "    for name, model in models.items():\n",
    "        print(f\"Cross-validating: {name}\")\n",
    "        scores[name] = eval_model(model, df_train)\n",
    "    scores = pd.DataFrame.from_dict(scores)\n",
    "    \n",
    "    X, y = df_train.drop(\"risk_flag\", axis=1).values, df_train[\"risk_flag\"].values\n",
    "    X_train, X_test, y_train, y_test = train_test_split(X, y, test_size=0.33)\n",
    "    \n",
    "    for name in models.keys():\n",
    "        models[name].fit(X_train, y_train)\n",
    "    \n",
    "    preds = {name: model.predict(X_test) for name, model in models.items()}\n",
    "    return preds, scores"
   ]
  },
  {
   "cell_type": "code",
   "execution_count": 1,
   "metadata": {},
   "outputs": [],
   "source": [
    "from ensembling import *"
   ]
  },
  {
   "cell_type": "code",
   "execution_count": 7,
   "metadata": {},
   "outputs": [
    {
     "data": {
      "text/html": [
       "<div>\n",
       "<style scoped>\n",
       "    .dataframe tbody tr th:only-of-type {\n",
       "        vertical-align: middle;\n",
       "    }\n",
       "\n",
       "    .dataframe tbody tr th {\n",
       "        vertical-align: top;\n",
       "    }\n",
       "\n",
       "    .dataframe thead th {\n",
       "        text-align: right;\n",
       "    }\n",
       "</style>\n",
       "<table border=\"1\" class=\"dataframe\">\n",
       "  <thead>\n",
       "    <tr style=\"text-align: right;\">\n",
       "      <th></th>\n",
       "      <th>id</th>\n",
       "      <th>rfv1_preds</th>\n",
       "      <th>rfv2_preds</th>\n",
       "      <th>dtreev1_preds</th>\n",
       "      <th>dtreev2_preds</th>\n",
       "      <th>dtreev3_preds</th>\n",
       "      <th>etreev1_preds</th>\n",
       "      <th>etreev2_preds</th>\n",
       "      <th>etreev3_preds</th>\n",
       "      <th>targets</th>\n",
       "    </tr>\n",
       "  </thead>\n",
       "  <tbody>\n",
       "    <tr>\n",
       "      <th>0</th>\n",
       "      <td>1</td>\n",
       "      <td>0</td>\n",
       "      <td>0</td>\n",
       "      <td>0</td>\n",
       "      <td>0</td>\n",
       "      <td>0</td>\n",
       "      <td>0</td>\n",
       "      <td>0</td>\n",
       "      <td>0</td>\n",
       "      <td>0</td>\n",
       "    </tr>\n",
       "    <tr>\n",
       "      <th>1</th>\n",
       "      <td>2</td>\n",
       "      <td>0</td>\n",
       "      <td>0</td>\n",
       "      <td>0</td>\n",
       "      <td>0</td>\n",
       "      <td>0</td>\n",
       "      <td>0</td>\n",
       "      <td>0</td>\n",
       "      <td>0</td>\n",
       "      <td>0</td>\n",
       "    </tr>\n",
       "    <tr>\n",
       "      <th>2</th>\n",
       "      <td>3</td>\n",
       "      <td>0</td>\n",
       "      <td>0</td>\n",
       "      <td>0</td>\n",
       "      <td>0</td>\n",
       "      <td>0</td>\n",
       "      <td>0</td>\n",
       "      <td>0</td>\n",
       "      <td>0</td>\n",
       "      <td>0</td>\n",
       "    </tr>\n",
       "    <tr>\n",
       "      <th>3</th>\n",
       "      <td>4</td>\n",
       "      <td>1</td>\n",
       "      <td>1</td>\n",
       "      <td>1</td>\n",
       "      <td>0</td>\n",
       "      <td>1</td>\n",
       "      <td>1</td>\n",
       "      <td>1</td>\n",
       "      <td>0</td>\n",
       "      <td>1</td>\n",
       "    </tr>\n",
       "    <tr>\n",
       "      <th>4</th>\n",
       "      <td>5</td>\n",
       "      <td>1</td>\n",
       "      <td>0</td>\n",
       "      <td>0</td>\n",
       "      <td>0</td>\n",
       "      <td>0</td>\n",
       "      <td>0</td>\n",
       "      <td>0</td>\n",
       "      <td>0</td>\n",
       "      <td>1</td>\n",
       "    </tr>\n",
       "  </tbody>\n",
       "</table>\n",
       "</div>"
      ],
      "text/plain": [
       "   id  rfv1_preds  rfv2_preds  dtreev1_preds  dtreev2_preds  dtreev3_preds  \\\n",
       "0   1           0           0              0              0              0   \n",
       "1   2           0           0              0              0              0   \n",
       "2   3           0           0              0              0              0   \n",
       "3   4           1           1              1              0              1   \n",
       "4   5           1           0              0              0              0   \n",
       "\n",
       "   etreev1_preds  etreev2_preds  etreev3_preds  targets  \n",
       "0              0              0              0        0  \n",
       "1              0              0              0        0  \n",
       "2              0              0              0        0  \n",
       "3              1              1              0        1  \n",
       "4              0              0              0        1  "
      ]
     },
     "execution_count": 7,
     "metadata": {},
     "output_type": "execute_result"
    }
   ],
   "source": [
    "df_train = pd.read_csv(\"./ensemble_files/final_train.csv\")\n",
    "df_train.head()"
   ]
  },
  {
   "cell_type": "code",
   "execution_count": 8,
   "metadata": {},
   "outputs": [
    {
     "ename": "NameError",
     "evalue": "name 'sns' is not defined",
     "output_type": "error",
     "traceback": [
      "\u001b[1;31m---------------------------------------------------------------------------\u001b[0m",
      "\u001b[1;31mNameError\u001b[0m                                 Traceback (most recent call last)",
      "\u001b[1;32m<ipython-input-8-b0f93b4b2f86>\u001b[0m in \u001b[0;36m<module>\u001b[1;34m\u001b[0m\n\u001b[1;32m----> 1\u001b[1;33m \u001b[0msns\u001b[0m\u001b[1;33m.\u001b[0m\u001b[0mheatmap\u001b[0m\u001b[1;33m\u001b[0m\u001b[1;33m\u001b[0m\u001b[0m\n\u001b[0m",
      "\u001b[1;31mNameError\u001b[0m: name 'sns' is not defined"
     ]
    }
   ],
   "source": [
    "import seaborn as sns\n",
    "sns.heatmap(df_)"
   ]
  },
  {
   "cell_type": "code",
   "execution_count": 9,
   "metadata": {},
   "outputs": [],
   "source": [
    "from bayes_opt import BayesianOptimization    \n",
    "def lightgbm_tuning(df_train):\n",
    "    df_train = lgb.Dataset(\n",
    "            data=df_train.drop([\"id\", \"targets\"], axis=1).values, \n",
    "            label=df_train[\"targets\"].values,\n",
    "            free_raw_data=False\n",
    "        )\n",
    "\n",
    "    def lgb_eval(**params):\n",
    "        config = {\"device\": \"gpu\", \"metric\": \"auc\", \"boosting_type\": \"goss\", \"verbose\": -1}\n",
    "        config.update(params) \n",
    "\n",
    "        config[\"num_leaves\"] = int(round(config[\"num_leaves\"]))\n",
    "        config[\"max_bin\"] = int(round(config[\"max_bin\"]))\n",
    "        config[\"max_depth\"] = int(round(config[\"max_depth\"]))\n",
    "\n",
    "        cv_result = lgb.cv(config, df_train, nfold=5, stratified=True, shuffle=True, metrics=[\"auc\"], verbose_eval=False)\n",
    "        return max(cv_result[\"auc-mean\"])\n",
    "    \n",
    "    pbounds = {\n",
    "        \"num_leaves\": (80, 250),\n",
    "        \"max_bin\": (25, 250),\n",
    "        \"scale_pos_weight\": (5, 15),\n",
    "        \"colsample_bytree\": (0.1, 0.9),\n",
    "        \"subsample\": (0.1, 0.9),\n",
    "        \"max_depth\": (2, 25)\n",
    "    }\n",
    "\n",
    "    lgBO = BayesianOptimization(lgb_eval, pbounds)\n",
    "    lgBO.maximize(init_points=15, n_iter=25)\n",
    "    \n",
    "    return lgBO\n",
    "\n",
    "def xgboost_tuning(df_train):\n",
    "    df_train = xgb.DMatrix(\n",
    "            df_train.drop([\"Id\", \"risk_flag\"], axis=1).values, \n",
    "            label=df_train[\"risk_flag\"].values,\n",
    "        )\n",
    "    \n",
    "    def xgb_eval(**params):\n",
    "        config = {\"tree_method\": \"gpu_hist\", \"eval_metric\": [\"auc\"], \"learning_rate\": 0.1}\n",
    "        config.update(params)\n",
    "        \n",
    "        config[\"max_depth\"] = int(round(config[\"max_depth\"]))\n",
    "        config[\"min_child_weight\"] = int(round(config[\"min_child_weight\"]))\n",
    "        \n",
    "        cv_result = xgb.cv(config, df_train, nfold=5, stratified=True, shuffle=True, metrics=[\"auc\"], verbose_eval=False)\n",
    "        return max(cv_result[\"test-auc-mean\"])\n",
    "    \n",
    "    pbounds = {\n",
    "        \"max_depth\": (5, 25),\n",
    "        \"min_child_weight\": (2, 16),\n",
    "        \"colsample_bytree\": (0.1, 0.9),\n",
    "        \"subsample\": (0.1, 0.9),\n",
    "        \"gamma\": (0.1, 1.0),\n",
    "        \"scale_pos_weight\": (5, 15)\n",
    "    }\n",
    "    \n",
    "    xgBO = BayesianOptimization(xgb_eval, pbounds)\n",
    "    xgBO.maximize(init_points=20, n_iter=40)\n",
    "    \n",
    "    return xgBO"
   ]
  },
  {
   "cell_type": "code",
   "execution_count": 10,
   "metadata": {},
   "outputs": [
    {
     "output_type": "stream",
     "name": "stdout",
     "text": [
      "|   iter    |  target   | colsam... |  max_bin  | max_depth | num_le... | scale_... | subsample |\n",
      "-------------------------------------------------------------------------------------------------\n",
      "| \u001b[0m 1       \u001b[0m | \u001b[0m 0.9424  \u001b[0m | \u001b[0m 0.4094  \u001b[0m | \u001b[0m 127.5   \u001b[0m | \u001b[0m 13.6    \u001b[0m | \u001b[0m 97.32   \u001b[0m | \u001b[0m 14.17   \u001b[0m | \u001b[0m 0.7335  \u001b[0m |\n",
      "| \u001b[0m 2       \u001b[0m | \u001b[0m 0.9424  \u001b[0m | \u001b[0m 0.4387  \u001b[0m | \u001b[0m 215.5   \u001b[0m | \u001b[0m 9.407   \u001b[0m | \u001b[0m 115.7   \u001b[0m | \u001b[0m 12.64   \u001b[0m | \u001b[0m 0.1697  \u001b[0m |\n",
      "| \u001b[0m 3       \u001b[0m | \u001b[0m 0.941   \u001b[0m | \u001b[0m 0.2748  \u001b[0m | \u001b[0m 119.0   \u001b[0m | \u001b[0m 17.84   \u001b[0m | \u001b[0m 143.4   \u001b[0m | \u001b[0m 12.67   \u001b[0m | \u001b[0m 0.258   \u001b[0m |\n",
      "| \u001b[0m 4       \u001b[0m | \u001b[0m 0.9411  \u001b[0m | \u001b[0m 0.2834  \u001b[0m | \u001b[0m 96.19   \u001b[0m | \u001b[0m 6.896   \u001b[0m | \u001b[0m 128.3   \u001b[0m | \u001b[0m 13.86   \u001b[0m | \u001b[0m 0.4537  \u001b[0m |\n",
      "| \u001b[95m 5       \u001b[0m | \u001b[95m 0.9428  \u001b[0m | \u001b[95m 0.7911  \u001b[0m | \u001b[95m 164.3   \u001b[0m | \u001b[95m 17.57   \u001b[0m | \u001b[95m 142.8   \u001b[0m | \u001b[95m 9.339   \u001b[0m | \u001b[95m 0.4236  \u001b[0m |\n",
      "| \u001b[0m 6       \u001b[0m | \u001b[0m 0.9411  \u001b[0m | \u001b[0m 0.1909  \u001b[0m | \u001b[0m 86.11   \u001b[0m | \u001b[0m 12.91   \u001b[0m | \u001b[0m 122.4   \u001b[0m | \u001b[0m 12.69   \u001b[0m | \u001b[0m 0.2878  \u001b[0m |\n",
      "| \u001b[0m 7       \u001b[0m | \u001b[0m 0.9417  \u001b[0m | \u001b[0m 0.3144  \u001b[0m | \u001b[0m 54.97   \u001b[0m | \u001b[0m 24.49   \u001b[0m | \u001b[0m 145.6   \u001b[0m | \u001b[0m 8.762   \u001b[0m | \u001b[0m 0.6551  \u001b[0m |\n",
      "| \u001b[0m 8       \u001b[0m | \u001b[0m 0.9428  \u001b[0m | \u001b[0m 0.6377  \u001b[0m | \u001b[0m 173.2   \u001b[0m | \u001b[0m 7.812   \u001b[0m | \u001b[0m 190.8   \u001b[0m | \u001b[0m 10.55   \u001b[0m | \u001b[0m 0.8193  \u001b[0m |\n",
      "| \u001b[0m 9       \u001b[0m | \u001b[0m 0.9412  \u001b[0m | \u001b[0m 0.2285  \u001b[0m | \u001b[0m 117.3   \u001b[0m | \u001b[0m 10.51   \u001b[0m | \u001b[0m 222.6   \u001b[0m | \u001b[0m 13.23   \u001b[0m | \u001b[0m 0.7626  \u001b[0m |\n",
      "| \u001b[0m 10      \u001b[0m | \u001b[0m 0.9428  \u001b[0m | \u001b[0m 0.7355  \u001b[0m | \u001b[0m 226.8   \u001b[0m | \u001b[0m 14.33   \u001b[0m | \u001b[0m 127.7   \u001b[0m | \u001b[0m 7.028   \u001b[0m | \u001b[0m 0.8449  \u001b[0m |\n",
      "| \u001b[0m 11      \u001b[0m | \u001b[0m 0.9421  \u001b[0m | \u001b[0m 0.4957  \u001b[0m | \u001b[0m 200.7   \u001b[0m | \u001b[0m 3.505   \u001b[0m | \u001b[0m 214.5   \u001b[0m | \u001b[0m 13.22   \u001b[0m | \u001b[0m 0.4165  \u001b[0m |\n",
      "| \u001b[0m 12      \u001b[0m | \u001b[0m 0.942   \u001b[0m | \u001b[0m 0.4364  \u001b[0m | \u001b[0m 46.67   \u001b[0m | \u001b[0m 23.71   \u001b[0m | \u001b[0m 205.8   \u001b[0m | \u001b[0m 11.4    \u001b[0m | \u001b[0m 0.7307  \u001b[0m |\n",
      "| \u001b[0m 13      \u001b[0m | \u001b[0m 0.9425  \u001b[0m | \u001b[0m 0.484   \u001b[0m | \u001b[0m 226.8   \u001b[0m | \u001b[0m 19.42   \u001b[0m | \u001b[0m 114.7   \u001b[0m | \u001b[0m 8.939   \u001b[0m | \u001b[0m 0.666   \u001b[0m |\n",
      "| \u001b[0m 14      \u001b[0m | \u001b[0m 0.9425  \u001b[0m | \u001b[0m 0.6023  \u001b[0m | \u001b[0m 220.2   \u001b[0m | \u001b[0m 15.84   \u001b[0m | \u001b[0m 226.5   \u001b[0m | \u001b[0m 14.98   \u001b[0m | \u001b[0m 0.2796  \u001b[0m |\n",
      "| \u001b[0m 15      \u001b[0m | \u001b[0m 0.9424  \u001b[0m | \u001b[0m 0.6053  \u001b[0m | \u001b[0m 43.51   \u001b[0m | \u001b[0m 20.81   \u001b[0m | \u001b[0m 179.8   \u001b[0m | \u001b[0m 8.521   \u001b[0m | \u001b[0m 0.7406  \u001b[0m |\n",
      "| \u001b[0m 16      \u001b[0m | \u001b[0m 0.9424  \u001b[0m | \u001b[0m 0.3924  \u001b[0m | \u001b[0m 128.0   \u001b[0m | \u001b[0m 11.89   \u001b[0m | \u001b[0m 97.87   \u001b[0m | \u001b[0m 14.96   \u001b[0m | \u001b[0m 0.835   \u001b[0m |\n",
      "| \u001b[0m 17      \u001b[0m | \u001b[0m 0.941   \u001b[0m | \u001b[0m 0.2174  \u001b[0m | \u001b[0m 201.2   \u001b[0m | \u001b[0m 20.28   \u001b[0m | \u001b[0m 160.3   \u001b[0m | \u001b[0m 5.723   \u001b[0m | \u001b[0m 0.5892  \u001b[0m |\n",
      "| \u001b[0m 18      \u001b[0m | \u001b[0m 0.9428  \u001b[0m | \u001b[0m 0.6053  \u001b[0m | \u001b[0m 159.2   \u001b[0m | \u001b[0m 9.228   \u001b[0m | \u001b[0m 168.6   \u001b[0m | \u001b[0m 8.662   \u001b[0m | \u001b[0m 0.2723  \u001b[0m |\n",
      "| \u001b[0m 19      \u001b[0m | \u001b[0m 0.9412  \u001b[0m | \u001b[0m 0.5299  \u001b[0m | \u001b[0m 246.2   \u001b[0m | \u001b[0m 2.208   \u001b[0m | \u001b[0m 133.1   \u001b[0m | \u001b[0m 6.495   \u001b[0m | \u001b[0m 0.8061  \u001b[0m |\n",
      "| \u001b[0m 20      \u001b[0m | \u001b[0m 0.9422  \u001b[0m | \u001b[0m 0.3958  \u001b[0m | \u001b[0m 156.8   \u001b[0m | \u001b[0m 22.39   \u001b[0m | \u001b[0m 184.4   \u001b[0m | \u001b[0m 14.74   \u001b[0m | \u001b[0m 0.3515  \u001b[0m |\n",
      "| \u001b[0m 21      \u001b[0m | \u001b[0m 0.9418  \u001b[0m | \u001b[0m 0.5568  \u001b[0m | \u001b[0m 159.8   \u001b[0m | \u001b[0m 2.963   \u001b[0m | \u001b[0m 144.7   \u001b[0m | \u001b[0m 12.12   \u001b[0m | \u001b[0m 0.5637  \u001b[0m |\n",
      "| \u001b[0m 22      \u001b[0m | \u001b[0m 0.9409  \u001b[0m | \u001b[0m 0.1088  \u001b[0m | \u001b[0m 167.4   \u001b[0m | \u001b[0m 24.45   \u001b[0m | \u001b[0m 157.2   \u001b[0m | \u001b[0m 8.283   \u001b[0m | \u001b[0m 0.3225  \u001b[0m |\n",
      "| \u001b[0m 23      \u001b[0m | \u001b[0m 0.9409  \u001b[0m | \u001b[0m 0.2892  \u001b[0m | \u001b[0m 166.8   \u001b[0m | \u001b[0m 6.388   \u001b[0m | \u001b[0m 179.6   \u001b[0m | \u001b[0m 9.003   \u001b[0m | \u001b[0m 0.3964  \u001b[0m |\n",
      "| \u001b[0m 24      \u001b[0m | \u001b[0m 0.9426  \u001b[0m | \u001b[0m 0.5084  \u001b[0m | \u001b[0m 223.7   \u001b[0m | \u001b[0m 10.94   \u001b[0m | \u001b[0m 121.8   \u001b[0m | \u001b[0m 8.024   \u001b[0m | \u001b[0m 0.5629  \u001b[0m |\n",
      "| \u001b[0m 25      \u001b[0m | \u001b[0m 0.9426  \u001b[0m | \u001b[0m 0.5862  \u001b[0m | \u001b[0m 222.7   \u001b[0m | \u001b[0m 17.94   \u001b[0m | \u001b[0m 123.9   \u001b[0m | \u001b[0m 13.44   \u001b[0m | \u001b[0m 0.4882  \u001b[0m |\n",
      "| \u001b[0m 26      \u001b[0m | \u001b[0m 0.9427  \u001b[0m | \u001b[0m 0.6319  \u001b[0m | \u001b[0m 180.0   \u001b[0m | \u001b[0m 8.344   \u001b[0m | \u001b[0m 194.6   \u001b[0m | \u001b[0m 8.659   \u001b[0m | \u001b[0m 0.7055  \u001b[0m |\n",
      "| \u001b[0m 27      \u001b[0m | \u001b[0m 0.941   \u001b[0m | \u001b[0m 0.2865  \u001b[0m | \u001b[0m 172.4   \u001b[0m | \u001b[0m 7.986   \u001b[0m | \u001b[0m 199.7   \u001b[0m | \u001b[0m 9.105   \u001b[0m | \u001b[0m 0.6488  \u001b[0m |\n",
      "| \u001b[0m 28      \u001b[0m | \u001b[0m 0.9422  \u001b[0m | \u001b[0m 0.4254  \u001b[0m | \u001b[0m 177.7   \u001b[0m | \u001b[0m 9.41    \u001b[0m | \u001b[0m 190.9   \u001b[0m | \u001b[0m 13.71   \u001b[0m | \u001b[0m 0.4807  \u001b[0m |\n",
      "| \u001b[0m 29      \u001b[0m | \u001b[0m 0.9427  \u001b[0m | \u001b[0m 0.5076  \u001b[0m | \u001b[0m 221.5   \u001b[0m | \u001b[0m 12.41   \u001b[0m | \u001b[0m 127.3   \u001b[0m | \u001b[0m 10.74   \u001b[0m | \u001b[0m 0.3927  \u001b[0m |\n",
      "| \u001b[0m 30      \u001b[0m | \u001b[0m 0.9425  \u001b[0m | \u001b[0m 0.4016  \u001b[0m | \u001b[0m 221.2   \u001b[0m | \u001b[0m 17.98   \u001b[0m | \u001b[0m 125.7   \u001b[0m | \u001b[0m 6.763   \u001b[0m | \u001b[0m 0.1987  \u001b[0m |\n",
      "| \u001b[0m 31      \u001b[0m | \u001b[0m 0.9428  \u001b[0m | \u001b[0m 0.6163  \u001b[0m | \u001b[0m 229.8   \u001b[0m | \u001b[0m 14.9    \u001b[0m | \u001b[0m 122.4   \u001b[0m | \u001b[0m 10.21   \u001b[0m | \u001b[0m 0.1233  \u001b[0m |\n",
      "| \u001b[0m 32      \u001b[0m | \u001b[0m 0.9425  \u001b[0m | \u001b[0m 0.4735  \u001b[0m | \u001b[0m 228.9   \u001b[0m | \u001b[0m 14.05   \u001b[0m | \u001b[0m 129.5   \u001b[0m | \u001b[0m 14.95   \u001b[0m | \u001b[0m 0.7831  \u001b[0m |\n",
      "| \u001b[95m 33      \u001b[0m | \u001b[95m 0.9429  \u001b[0m | \u001b[95m 0.8565  \u001b[0m | \u001b[95m 179.7   \u001b[0m | \u001b[95m 8.703   \u001b[0m | \u001b[95m 187.9   \u001b[0m | \u001b[95m 6.621   \u001b[0m | \u001b[95m 0.44    \u001b[0m |\n",
      "| \u001b[0m 34      \u001b[0m | \u001b[0m 0.941   \u001b[0m | \u001b[0m 0.2443  \u001b[0m | \u001b[0m 168.8   \u001b[0m | \u001b[0m 16.84   \u001b[0m | \u001b[0m 136.4   \u001b[0m | \u001b[0m 13.03   \u001b[0m | \u001b[0m 0.8062  \u001b[0m |\n"
     ]
    },
    {
     "output_type": "error",
     "ename": "KeyboardInterrupt",
     "evalue": "",
     "traceback": [
      "\u001b[1;31m---------------------------------------------------------------------------\u001b[0m",
      "\u001b[1;31mKeyError\u001b[0m                                  Traceback (most recent call last)",
      "\u001b[1;32mD:\\Applications\\anaconda3\\lib\\site-packages\\bayes_opt\\target_space.py\u001b[0m in \u001b[0;36mprobe\u001b[1;34m(self, params)\u001b[0m\n\u001b[0;32m    190\u001b[0m         \u001b[1;32mtry\u001b[0m\u001b[1;33m:\u001b[0m\u001b[1;33m\u001b[0m\u001b[1;33m\u001b[0m\u001b[0m\n\u001b[1;32m--> 191\u001b[1;33m             \u001b[0mtarget\u001b[0m \u001b[1;33m=\u001b[0m \u001b[0mself\u001b[0m\u001b[1;33m.\u001b[0m\u001b[0m_cache\u001b[0m\u001b[1;33m[\u001b[0m\u001b[0m_hashable\u001b[0m\u001b[1;33m(\u001b[0m\u001b[0mx\u001b[0m\u001b[1;33m)\u001b[0m\u001b[1;33m]\u001b[0m\u001b[1;33m\u001b[0m\u001b[1;33m\u001b[0m\u001b[0m\n\u001b[0m\u001b[0;32m    192\u001b[0m         \u001b[1;32mexcept\u001b[0m \u001b[0mKeyError\u001b[0m\u001b[1;33m:\u001b[0m\u001b[1;33m\u001b[0m\u001b[1;33m\u001b[0m\u001b[0m\n",
      "\u001b[1;31mKeyError\u001b[0m: (0.9, 160.08985481414493, 17.67723511707411, 143.70652924863978, 5.0504112107231505, 0.3727885223006756)",
      "\nDuring handling of the above exception, another exception occurred:\n",
      "\u001b[1;31mKeyboardInterrupt\u001b[0m                         Traceback (most recent call last)",
      "\u001b[1;32m<ipython-input-10-42b57ecc29e0>\u001b[0m in \u001b[0;36m<module>\u001b[1;34m\u001b[0m\n\u001b[0;32m      5\u001b[0m \u001b[1;33m\u001b[0m\u001b[0m\n\u001b[0;32m      6\u001b[0m \u001b[0mdf_train\u001b[0m \u001b[1;33m=\u001b[0m \u001b[0mpd\u001b[0m\u001b[1;33m.\u001b[0m\u001b[0mread_csv\u001b[0m\u001b[1;33m(\u001b[0m\u001b[1;34m\"./ensemble_files/final_train.csv\"\u001b[0m\u001b[1;33m)\u001b[0m\u001b[1;33m\u001b[0m\u001b[1;33m\u001b[0m\u001b[0m\n\u001b[1;32m----> 7\u001b[1;33m \u001b[0mlgBO\u001b[0m \u001b[1;33m=\u001b[0m \u001b[0mlightgbm_tuning\u001b[0m\u001b[1;33m(\u001b[0m\u001b[0mdf_train\u001b[0m\u001b[1;33m)\u001b[0m\u001b[1;33m\u001b[0m\u001b[1;33m\u001b[0m\u001b[0m\n\u001b[0m\u001b[0;32m      8\u001b[0m \u001b[1;33m\u001b[0m\u001b[0m\n\u001b[0;32m      9\u001b[0m \u001b[1;31m# xgBO = xgboost_tuning(df_train)\u001b[0m\u001b[1;33m\u001b[0m\u001b[1;33m\u001b[0m\u001b[1;33m\u001b[0m\u001b[0m\n",
      "\u001b[1;32m<ipython-input-9-dfb53bdc1db6>\u001b[0m in \u001b[0;36mlightgbm_tuning\u001b[1;34m(df_train)\u001b[0m\n\u001b[0;32m     28\u001b[0m \u001b[1;33m\u001b[0m\u001b[0m\n\u001b[0;32m     29\u001b[0m     \u001b[0mlgBO\u001b[0m \u001b[1;33m=\u001b[0m \u001b[0mBayesianOptimization\u001b[0m\u001b[1;33m(\u001b[0m\u001b[0mlgb_eval\u001b[0m\u001b[1;33m,\u001b[0m \u001b[0mpbounds\u001b[0m\u001b[1;33m)\u001b[0m\u001b[1;33m\u001b[0m\u001b[1;33m\u001b[0m\u001b[0m\n\u001b[1;32m---> 30\u001b[1;33m     \u001b[0mlgBO\u001b[0m\u001b[1;33m.\u001b[0m\u001b[0mmaximize\u001b[0m\u001b[1;33m(\u001b[0m\u001b[0minit_points\u001b[0m\u001b[1;33m=\u001b[0m\u001b[1;36m15\u001b[0m\u001b[1;33m,\u001b[0m \u001b[0mn_iter\u001b[0m\u001b[1;33m=\u001b[0m\u001b[1;36m25\u001b[0m\u001b[1;33m)\u001b[0m\u001b[1;33m\u001b[0m\u001b[1;33m\u001b[0m\u001b[0m\n\u001b[0m\u001b[0;32m     31\u001b[0m \u001b[1;33m\u001b[0m\u001b[0m\n\u001b[0;32m     32\u001b[0m     \u001b[1;32mreturn\u001b[0m \u001b[0mlgBO\u001b[0m\u001b[1;33m\u001b[0m\u001b[1;33m\u001b[0m\u001b[0m\n",
      "\u001b[1;32mD:\\Applications\\anaconda3\\lib\\site-packages\\bayes_opt\\bayesian_optimization.py\u001b[0m in \u001b[0;36mmaximize\u001b[1;34m(self, init_points, n_iter, acq, kappa, kappa_decay, kappa_decay_delay, xi, **gp_params)\u001b[0m\n\u001b[0;32m    183\u001b[0m                 \u001b[0miteration\u001b[0m \u001b[1;33m+=\u001b[0m \u001b[1;36m1\u001b[0m\u001b[1;33m\u001b[0m\u001b[1;33m\u001b[0m\u001b[0m\n\u001b[0;32m    184\u001b[0m \u001b[1;33m\u001b[0m\u001b[0m\n\u001b[1;32m--> 185\u001b[1;33m             \u001b[0mself\u001b[0m\u001b[1;33m.\u001b[0m\u001b[0mprobe\u001b[0m\u001b[1;33m(\u001b[0m\u001b[0mx_probe\u001b[0m\u001b[1;33m,\u001b[0m \u001b[0mlazy\u001b[0m\u001b[1;33m=\u001b[0m\u001b[1;32mFalse\u001b[0m\u001b[1;33m)\u001b[0m\u001b[1;33m\u001b[0m\u001b[1;33m\u001b[0m\u001b[0m\n\u001b[0m\u001b[0;32m    186\u001b[0m \u001b[1;33m\u001b[0m\u001b[0m\n\u001b[0;32m    187\u001b[0m             \u001b[1;32mif\u001b[0m \u001b[0mself\u001b[0m\u001b[1;33m.\u001b[0m\u001b[0m_bounds_transformer\u001b[0m\u001b[1;33m:\u001b[0m\u001b[1;33m\u001b[0m\u001b[1;33m\u001b[0m\u001b[0m\n",
      "\u001b[1;32mD:\\Applications\\anaconda3\\lib\\site-packages\\bayes_opt\\bayesian_optimization.py\u001b[0m in \u001b[0;36mprobe\u001b[1;34m(self, params, lazy)\u001b[0m\n\u001b[0;32m    114\u001b[0m             \u001b[0mself\u001b[0m\u001b[1;33m.\u001b[0m\u001b[0m_queue\u001b[0m\u001b[1;33m.\u001b[0m\u001b[0madd\u001b[0m\u001b[1;33m(\u001b[0m\u001b[0mparams\u001b[0m\u001b[1;33m)\u001b[0m\u001b[1;33m\u001b[0m\u001b[1;33m\u001b[0m\u001b[0m\n\u001b[0;32m    115\u001b[0m         \u001b[1;32melse\u001b[0m\u001b[1;33m:\u001b[0m\u001b[1;33m\u001b[0m\u001b[1;33m\u001b[0m\u001b[0m\n\u001b[1;32m--> 116\u001b[1;33m             \u001b[0mself\u001b[0m\u001b[1;33m.\u001b[0m\u001b[0m_space\u001b[0m\u001b[1;33m.\u001b[0m\u001b[0mprobe\u001b[0m\u001b[1;33m(\u001b[0m\u001b[0mparams\u001b[0m\u001b[1;33m)\u001b[0m\u001b[1;33m\u001b[0m\u001b[1;33m\u001b[0m\u001b[0m\n\u001b[0m\u001b[0;32m    117\u001b[0m             \u001b[0mself\u001b[0m\u001b[1;33m.\u001b[0m\u001b[0mdispatch\u001b[0m\u001b[1;33m(\u001b[0m\u001b[0mEvents\u001b[0m\u001b[1;33m.\u001b[0m\u001b[0mOPTIMIZATION_STEP\u001b[0m\u001b[1;33m)\u001b[0m\u001b[1;33m\u001b[0m\u001b[1;33m\u001b[0m\u001b[0m\n\u001b[0;32m    118\u001b[0m \u001b[1;33m\u001b[0m\u001b[0m\n",
      "\u001b[1;32mD:\\Applications\\anaconda3\\lib\\site-packages\\bayes_opt\\target_space.py\u001b[0m in \u001b[0;36mprobe\u001b[1;34m(self, params)\u001b[0m\n\u001b[0;32m    192\u001b[0m         \u001b[1;32mexcept\u001b[0m \u001b[0mKeyError\u001b[0m\u001b[1;33m:\u001b[0m\u001b[1;33m\u001b[0m\u001b[1;33m\u001b[0m\u001b[0m\n\u001b[0;32m    193\u001b[0m             \u001b[0mparams\u001b[0m \u001b[1;33m=\u001b[0m \u001b[0mdict\u001b[0m\u001b[1;33m(\u001b[0m\u001b[0mzip\u001b[0m\u001b[1;33m(\u001b[0m\u001b[0mself\u001b[0m\u001b[1;33m.\u001b[0m\u001b[0m_keys\u001b[0m\u001b[1;33m,\u001b[0m \u001b[0mx\u001b[0m\u001b[1;33m)\u001b[0m\u001b[1;33m)\u001b[0m\u001b[1;33m\u001b[0m\u001b[1;33m\u001b[0m\u001b[0m\n\u001b[1;32m--> 194\u001b[1;33m             \u001b[0mtarget\u001b[0m \u001b[1;33m=\u001b[0m \u001b[0mself\u001b[0m\u001b[1;33m.\u001b[0m\u001b[0mtarget_func\u001b[0m\u001b[1;33m(\u001b[0m\u001b[1;33m**\u001b[0m\u001b[0mparams\u001b[0m\u001b[1;33m)\u001b[0m\u001b[1;33m\u001b[0m\u001b[1;33m\u001b[0m\u001b[0m\n\u001b[0m\u001b[0;32m    195\u001b[0m             \u001b[0mself\u001b[0m\u001b[1;33m.\u001b[0m\u001b[0mregister\u001b[0m\u001b[1;33m(\u001b[0m\u001b[0mx\u001b[0m\u001b[1;33m,\u001b[0m \u001b[0mtarget\u001b[0m\u001b[1;33m)\u001b[0m\u001b[1;33m\u001b[0m\u001b[1;33m\u001b[0m\u001b[0m\n\u001b[0;32m    196\u001b[0m         \u001b[1;32mreturn\u001b[0m \u001b[0mtarget\u001b[0m\u001b[1;33m\u001b[0m\u001b[1;33m\u001b[0m\u001b[0m\n",
      "\u001b[1;32m<ipython-input-9-dfb53bdc1db6>\u001b[0m in \u001b[0;36mlgb_eval\u001b[1;34m(**params)\u001b[0m\n\u001b[0;32m     15\u001b[0m         \u001b[0mconfig\u001b[0m\u001b[1;33m[\u001b[0m\u001b[1;34m\"max_depth\"\u001b[0m\u001b[1;33m]\u001b[0m \u001b[1;33m=\u001b[0m \u001b[0mint\u001b[0m\u001b[1;33m(\u001b[0m\u001b[0mround\u001b[0m\u001b[1;33m(\u001b[0m\u001b[0mconfig\u001b[0m\u001b[1;33m[\u001b[0m\u001b[1;34m\"max_depth\"\u001b[0m\u001b[1;33m]\u001b[0m\u001b[1;33m)\u001b[0m\u001b[1;33m)\u001b[0m\u001b[1;33m\u001b[0m\u001b[1;33m\u001b[0m\u001b[0m\n\u001b[0;32m     16\u001b[0m \u001b[1;33m\u001b[0m\u001b[0m\n\u001b[1;32m---> 17\u001b[1;33m         \u001b[0mcv_result\u001b[0m \u001b[1;33m=\u001b[0m \u001b[0mlgb\u001b[0m\u001b[1;33m.\u001b[0m\u001b[0mcv\u001b[0m\u001b[1;33m(\u001b[0m\u001b[0mconfig\u001b[0m\u001b[1;33m,\u001b[0m \u001b[0mdf_train\u001b[0m\u001b[1;33m,\u001b[0m \u001b[0mnfold\u001b[0m\u001b[1;33m=\u001b[0m\u001b[1;36m5\u001b[0m\u001b[1;33m,\u001b[0m \u001b[0mstratified\u001b[0m\u001b[1;33m=\u001b[0m\u001b[1;32mTrue\u001b[0m\u001b[1;33m,\u001b[0m \u001b[0mshuffle\u001b[0m\u001b[1;33m=\u001b[0m\u001b[1;32mTrue\u001b[0m\u001b[1;33m,\u001b[0m \u001b[0mmetrics\u001b[0m\u001b[1;33m=\u001b[0m\u001b[1;33m[\u001b[0m\u001b[1;34m\"auc\"\u001b[0m\u001b[1;33m]\u001b[0m\u001b[1;33m,\u001b[0m \u001b[0mverbose_eval\u001b[0m\u001b[1;33m=\u001b[0m\u001b[1;32mFalse\u001b[0m\u001b[1;33m)\u001b[0m\u001b[1;33m\u001b[0m\u001b[1;33m\u001b[0m\u001b[0m\n\u001b[0m\u001b[0;32m     18\u001b[0m         \u001b[1;32mreturn\u001b[0m \u001b[0mmax\u001b[0m\u001b[1;33m(\u001b[0m\u001b[0mcv_result\u001b[0m\u001b[1;33m[\u001b[0m\u001b[1;34m\"auc-mean\"\u001b[0m\u001b[1;33m]\u001b[0m\u001b[1;33m)\u001b[0m\u001b[1;33m\u001b[0m\u001b[1;33m\u001b[0m\u001b[0m\n\u001b[0;32m     19\u001b[0m \u001b[1;33m\u001b[0m\u001b[0m\n",
      "\u001b[1;32mD:\\Applications\\anaconda3\\lib\\site-packages\\lightgbm\\engine.py\u001b[0m in \u001b[0;36mcv\u001b[1;34m(params, train_set, num_boost_round, folds, nfold, stratified, shuffle, metrics, fobj, feval, init_model, feature_name, categorical_feature, early_stopping_rounds, fpreproc, verbose_eval, show_stdv, seed, callbacks, eval_train_metric, return_cvbooster)\u001b[0m\n\u001b[0;32m    587\u001b[0m                                     \u001b[0mend_iteration\u001b[0m\u001b[1;33m=\u001b[0m\u001b[0mnum_boost_round\u001b[0m\u001b[1;33m,\u001b[0m\u001b[1;33m\u001b[0m\u001b[1;33m\u001b[0m\u001b[0m\n\u001b[0;32m    588\u001b[0m                                     evaluation_result_list=None))\n\u001b[1;32m--> 589\u001b[1;33m         \u001b[0mcvfolds\u001b[0m\u001b[1;33m.\u001b[0m\u001b[0mupdate\u001b[0m\u001b[1;33m(\u001b[0m\u001b[0mfobj\u001b[0m\u001b[1;33m=\u001b[0m\u001b[0mfobj\u001b[0m\u001b[1;33m)\u001b[0m\u001b[1;33m\u001b[0m\u001b[1;33m\u001b[0m\u001b[0m\n\u001b[0m\u001b[0;32m    590\u001b[0m         \u001b[0mres\u001b[0m \u001b[1;33m=\u001b[0m \u001b[0m_agg_cv_result\u001b[0m\u001b[1;33m(\u001b[0m\u001b[0mcvfolds\u001b[0m\u001b[1;33m.\u001b[0m\u001b[0meval_valid\u001b[0m\u001b[1;33m(\u001b[0m\u001b[0mfeval\u001b[0m\u001b[1;33m)\u001b[0m\u001b[1;33m,\u001b[0m \u001b[0meval_train_metric\u001b[0m\u001b[1;33m)\u001b[0m\u001b[1;33m\u001b[0m\u001b[1;33m\u001b[0m\u001b[0m\n\u001b[0;32m    591\u001b[0m         \u001b[1;32mfor\u001b[0m \u001b[0m_\u001b[0m\u001b[1;33m,\u001b[0m \u001b[0mkey\u001b[0m\u001b[1;33m,\u001b[0m \u001b[0mmean\u001b[0m\u001b[1;33m,\u001b[0m \u001b[0m_\u001b[0m\u001b[1;33m,\u001b[0m \u001b[0mstd\u001b[0m \u001b[1;32min\u001b[0m \u001b[0mres\u001b[0m\u001b[1;33m:\u001b[0m\u001b[1;33m\u001b[0m\u001b[1;33m\u001b[0m\u001b[0m\n",
      "\u001b[1;32mD:\\Applications\\anaconda3\\lib\\site-packages\\lightgbm\\engine.py\u001b[0m in \u001b[0;36mhandler_function\u001b[1;34m(*args, **kwargs)\u001b[0m\n\u001b[0;32m    308\u001b[0m             \u001b[0mret\u001b[0m \u001b[1;33m=\u001b[0m \u001b[1;33m[\u001b[0m\u001b[1;33m]\u001b[0m\u001b[1;33m\u001b[0m\u001b[1;33m\u001b[0m\u001b[0m\n\u001b[0;32m    309\u001b[0m             \u001b[1;32mfor\u001b[0m \u001b[0mbooster\u001b[0m \u001b[1;32min\u001b[0m \u001b[0mself\u001b[0m\u001b[1;33m.\u001b[0m\u001b[0mboosters\u001b[0m\u001b[1;33m:\u001b[0m\u001b[1;33m\u001b[0m\u001b[1;33m\u001b[0m\u001b[0m\n\u001b[1;32m--> 310\u001b[1;33m                 \u001b[0mret\u001b[0m\u001b[1;33m.\u001b[0m\u001b[0mappend\u001b[0m\u001b[1;33m(\u001b[0m\u001b[0mgetattr\u001b[0m\u001b[1;33m(\u001b[0m\u001b[0mbooster\u001b[0m\u001b[1;33m,\u001b[0m \u001b[0mname\u001b[0m\u001b[1;33m)\u001b[0m\u001b[1;33m(\u001b[0m\u001b[1;33m*\u001b[0m\u001b[0margs\u001b[0m\u001b[1;33m,\u001b[0m \u001b[1;33m**\u001b[0m\u001b[0mkwargs\u001b[0m\u001b[1;33m)\u001b[0m\u001b[1;33m)\u001b[0m\u001b[1;33m\u001b[0m\u001b[1;33m\u001b[0m\u001b[0m\n\u001b[0m\u001b[0;32m    311\u001b[0m             \u001b[1;32mreturn\u001b[0m \u001b[0mret\u001b[0m\u001b[1;33m\u001b[0m\u001b[1;33m\u001b[0m\u001b[0m\n\u001b[0;32m    312\u001b[0m         \u001b[1;32mreturn\u001b[0m \u001b[0mhandler_function\u001b[0m\u001b[1;33m\u001b[0m\u001b[1;33m\u001b[0m\u001b[0m\n",
      "\u001b[1;32mD:\\Applications\\anaconda3\\lib\\site-packages\\lightgbm\\basic.py\u001b[0m in \u001b[0;36mupdate\u001b[1;34m(self, train_set, fobj)\u001b[0m\n\u001b[0;32m   2641\u001b[0m             \u001b[1;32mif\u001b[0m \u001b[0mself\u001b[0m\u001b[1;33m.\u001b[0m\u001b[0m__set_objective_to_none\u001b[0m\u001b[1;33m:\u001b[0m\u001b[1;33m\u001b[0m\u001b[1;33m\u001b[0m\u001b[0m\n\u001b[0;32m   2642\u001b[0m                 \u001b[1;32mraise\u001b[0m \u001b[0mLightGBMError\u001b[0m\u001b[1;33m(\u001b[0m\u001b[1;34m'Cannot update due to null objective function.'\u001b[0m\u001b[1;33m)\u001b[0m\u001b[1;33m\u001b[0m\u001b[1;33m\u001b[0m\u001b[0m\n\u001b[1;32m-> 2643\u001b[1;33m             _safe_call(_LIB.LGBM_BoosterUpdateOneIter(\n\u001b[0m\u001b[0;32m   2644\u001b[0m                 \u001b[0mself\u001b[0m\u001b[1;33m.\u001b[0m\u001b[0mhandle\u001b[0m\u001b[1;33m,\u001b[0m\u001b[1;33m\u001b[0m\u001b[1;33m\u001b[0m\u001b[0m\n\u001b[0;32m   2645\u001b[0m                 ctypes.byref(is_finished)))\n",
      "\u001b[1;31mKeyboardInterrupt\u001b[0m: "
     ]
    }
   ],
   "source": [
    "# df_train, df_test = data_preprocess(\n",
    "#     drop_cols=[],\n",
    "#     transforms=SINGLE_TRANSFORMS\n",
    "# )\n",
    "\n",
    "df_train = pd.read_csv(\"./ensemble_files/final_train.csv\")\n",
    "lgBO = lightgbm_tuning(df_train)\n",
    "\n",
    "# xgBO = xgboost_tuning(df_train)"
   ]
  },
  {
   "cell_type": "code",
   "execution_count": 19,
   "metadata": {},
   "outputs": [
    {
     "data": {
      "text/plain": [
       "{'target': 0.9342476968886055,\n",
       " 'params': {'colsample_bytree': 0.711263693734104,\n",
       "  'max_bin': 191.1520924638712,\n",
       "  'max_depth': 24.719186409019578,\n",
       "  'num_leaves': 298.8966232805185,\n",
       "  'scale_pos_weight': 12.23110875213706,\n",
       "  'subsample': 0.2390470406490695}}"
      ]
     },
     "execution_count": 19,
     "metadata": {},
     "output_type": "execute_result"
    }
   ],
   "source": [
    "lgBO.max"
   ]
  },
  {
   "cell_type": "code",
   "execution_count": null,
   "metadata": {},
   "outputs": [],
   "source": []
  }
 ],
 "metadata": {
  "kernelspec": {
   "name": "python385jvsc74a57bd00bda99ab821e2c1486c14791a092059d9b5f1492bb5b2b817e20afe3617e9aa8",
   "display_name": "Python 3.8.5 64-bit (conda)"
  },
  "language_info": {
   "codemirror_mode": {
    "name": "ipython",
    "version": 3
   },
   "file_extension": ".py",
   "mimetype": "text/x-python",
   "name": "python",
   "nbconvert_exporter": "python",
   "pygments_lexer": "ipython3",
   "version": "3.8.5-final"
  }
 },
 "nbformat": 4,
 "nbformat_minor": 4
}